{
 "cells": [
  {
   "cell_type": "code",
   "execution_count": 109,
   "metadata": {},
   "outputs": [],
   "source": [
    "import numpy as np\n",
    "import matplotlib.pyplot as plt\n",
    "import random\n",
    "import math\n",
    "\n",
    "%matplotlib inline"
   ]
  },
  {
   "cell_type": "markdown",
   "metadata": {},
   "source": [
    "### Задание 1-2"
   ]
  },
  {
   "cell_type": "markdown",
   "metadata": {},
   "source": [
    "1) Напишите код, моделирующий выпадение поля в рулетке (с учетом поля зеро) и код, проверяющий любую из теорем сложения или умножения."
   ]
  },
  {
   "cell_type": "code",
   "execution_count": 85,
   "metadata": {
    "scrolled": false
   },
   "outputs": [
    {
     "name": "stdout",
     "output_type": "stream",
     "text": [
      "При 10000 попытках: \n",
      "1) Зеро выпало - 264 раз, а доля выподадений в попытках (0.0264)\n",
      "2) Черное выпало - 4953 раз, (0.4953)\n",
      "3) Красное выпало - 4783 раз, (0.4783)\n",
      "4) Красное ИЛИ Черное выпало - 9736 раз, (0.9736)\n"
     ]
    }
   ],
   "source": [
    "zero,black,red,black_or_red=0,0,0,0\n",
    "n=10000\n",
    "\n",
    "for i in range(0,n):\n",
    "    x = random.randint(0,37)\n",
    "    if x == 0:\n",
    "        zero+=1\n",
    "    elif x > 18:\n",
    "        black+=1\n",
    "        black_or_red+=1\n",
    "    else:\n",
    "        red+=1\n",
    "        black_or_red+=1\n",
    "print(f'При {n} попытках: ')\n",
    "print(f'1) Зеро выпало - {zero} раз, а доля выподадений в попытках ({zero/n})')\n",
    "print(f'2) Черное выпало - {black} раз, ({black/n})')\n",
    "print(f'3) Красное выпало - {red} раз, ({red/n})')\n",
    "print(f'4) Красное ИЛИ Черное выпало - {black_or_red} раз, ({black_or_red/n})')"
   ]
  },
  {
   "cell_type": "markdown",
   "metadata": {},
   "source": [
    "Доля выпадений Красного или Черного равно сумме долей выпадений по отдельности. Также, при 10000 повторениях значения равны вероятностям:\n",
    "- Зеро = 1/37 $\\approx 0.027$,\n",
    "- Черное = 18/37 $\\approx 0.486$,\n",
    "- Красное = 18/37 $\\approx 0.486$\n",
    "- Черное или красное = 36/37 $\\approx 0.973$"
   ]
  },
  {
   "cell_type": "markdown",
   "metadata": {},
   "source": [
    "$$P(Ч+К) = \\frac{36}{37} = \\frac{18+18}{37} =\\frac{18}{37} + \\frac{18}{37}$$"
   ]
  },
  {
   "cell_type": "markdown",
   "metadata": {},
   "source": [
    "2) Сгенерируйте десять выборок случайных чисел х0, …, х9.\n",
    "и постройте гистограмму распределения случайной суммы х0+х1+ …+ х9"
   ]
  },
  {
   "cell_type": "code",
   "execution_count": 76,
   "metadata": {
    "scrolled": false
   },
   "outputs": [
    {
     "data": {
      "image/png": "[encoded data removed]",
      "text/plain": [
       "<Figure size 432x288 with 1 Axes>"
      ]
     },
     "metadata": {
      "needs_background": "light"
     },
     "output_type": "display_data"
    }
   ],
   "source": [
    "sums = []\n",
    "\n",
    "for i in range(100):\n",
    "    x = [random.randint(0, 10) for _ in range(10)]\n",
    "    sum_item = sum(x)\n",
    "    sums.append(sum_item)\n",
    "\n",
    "plt.hist(sums, 6)\n",
    "plt.xlabel('sum')\n",
    "plt.ylabel('Probability')\n",
    "plt.show()"
   ]
  },
  {
   "cell_type": "markdown",
   "metadata": {},
   "source": [
    "### Задание 3"
   ]
  },
  {
   "cell_type": "markdown",
   "metadata": {},
   "source": [
    "1) Дополните код Монте-Карло последовательности независимых испытаний расчетом соответствующих вероятностей (через биномиальное распределение) и сравните результаты."
   ]
  },
  {
   "cell_type": "code",
   "execution_count": 125,
   "metadata": {},
   "outputs": [
    {
     "name": "stdout",
     "output_type": "stream",
     "text": [
      "39 100 0.39\n"
     ]
    }
   ],
   "source": [
    "k, n = 0, 100\n",
    "a = np.random.randint(0, 2, n)\n",
    "b = np.random.randint(0, 2, n)\n",
    "c = np.random.randint(0, 2, n)\n",
    "d = np.random.randint(0, 2, n)\n",
    "x = a + b + d + c\n",
    "for i in range(0, n):\n",
    "    if x[i] == 2:\n",
    "        k +=1\n",
    "print(k, n, k/n)"
   ]
  },
  {
   "cell_type": "markdown",
   "metadata": {},
   "source": [
    "2) Повторите расчеты биномиальных коэффициентов и вероятностей k успехов в последовательности из n независимых испытаний, взяв другие значения n и k. Например, какая вероятность выпадения 4-х успехов из 20 испытаний:"
   ]
  },
  {
   "cell_type": "code",
   "execution_count": 124,
   "metadata": {},
   "outputs": [
    {
     "name": "stdout",
     "output_type": "stream",
     "text": [
      "0.004620552062988281\n"
     ]
    }
   ],
   "source": [
    "P = (math.factorial(20)/(math.factorial(4)*math.factorial(20-4)))*(1/2**20)\n",
    "print(P)"
   ]
  },
  {
   "cell_type": "markdown",
   "metadata": {},
   "source": [
    "### Задание 4"
   ]
  },
  {
   "cell_type": "code",
   "execution_count": null,
   "metadata": {},
   "outputs": [],
   "source": []
  }
 ],
 "metadata": {
  "kernelspec": {
   "display_name": "Python 3",
   "language": "python",
   "name": "python3"
  },
  "language_info": {
   "codemirror_mode": {
    "name": "ipython",
    "version": 3
   },
   "file_extension": ".py",
   "mimetype": "text/x-python",
   "name": "python",
   "nbconvert_exporter": "python",
   "pygments_lexer": "ipython3",
   "version": "3.7.6"
  }
 },
 "nbformat": 4,
 "nbformat_minor": 4
}
