{
 "cells": [
  {
   "cell_type": "code",
   "execution_count": 28,
   "metadata": {},
   "outputs": [],
   "source": [
    "import numpy as np\n",
    "import matplotlib.pyplot as plt\n",
    "import random"
   ]
  },
  {
   "cell_type": "markdown",
   "metadata": {},
   "source": [
    "## Задание 1"
   ]
  },
  {
   "cell_type": "markdown",
   "metadata": {},
   "source": [
    "Как относятся друг к другу множество и последовательность? (в ответе использовать слова типа: часть, целое, общее, частное, родитель, дочерний субъект и т.д.)"
   ]
  },
  {
   "cell_type": "markdown",
   "metadata": {},
   "source": [
    "**Ответ:** последовательность состоит из элементов множества."
   ]
  },
  {
   "cell_type": "markdown",
   "metadata": {},
   "source": [
    "## Задание 2"
   ]
  },
  {
   "cell_type": "markdown",
   "metadata": {},
   "source": [
    "1. Для любого у из интервала 0;1 включительно - sgn(y)=1. Ложное высказывание, так как sgn(0)=0. **Отрицание:** из интервала 0;1 сущетсвует такой у при котором sgn(y) не равен 1. Истина."
   ]
  },
  {
   "cell_type": "markdown",
   "metadata": {},
   "source": [
    "2. Для любого n из множества натуральных чисел > 2 существуют такие натуральные числа x,y,z, при которых выполняется равенство $x^n = y^n + z^n$. Не знаю ложно или нет. **Отрицание:** из множества натуральных чисел > 2 существует такое n при котором для любых натуральных чисел x,y,z выполняется условие $x^n \\neq y^n + z^n$"
   ]
  },
  {
   "cell_type": "markdown",
   "metadata": {},
   "source": [
    "3. Для любого вещественного числа х существует вещественное число Х, которое больше х. Истина. **Отрицание:** существует вещественное число х, которое будет меньше любого другого вещественного числа Х. Ложь, потому что вещественные числа включают в себя +- бесконечность, то есть всегда найдется либо большее, либо меньшее вещественное число."
   ]
  },
  {
   "cell_type": "markdown",
   "metadata": {},
   "source": [
    "4. Для любого комплексного числа х не существует комплексное число у при котором х больше или меньше y. Не понимаю смысла этого выражения. **Отрицание:** существуют комплексные числа х,у для которых х > или < ранво y."
   ]
  },
  {
   "cell_type": "markdown",
   "metadata": {},
   "source": [
    "5. Для любого у в интервале от 0 до $\\pi/2$ включительно существует эпсилон больше 0 при котором sin(y) < sin(y+эпсилон). Ложно, потому что максимальное значение sin($\\pi/2$) = 1 и при добавлении эпсилон к $\\pi/2$ sin(y) будет больше sin(y+эпсилон). **Отрицание:** в интервале от 0 до $\\pi/2$ включительно существует такой у, для которого при любом эпсилон больше 0, sin(y) будет больше sin(y+эпсилон). Истина."
   ]
  },
  {
   "cell_type": "code",
   "execution_count": 26,
   "metadata": {},
   "outputs": [
    {
     "data": {
      "text/plain": [
       "Text(0, 0.5, 'sin')"
      ]
     },
     "execution_count": 26,
     "metadata": {},
     "output_type": "execute_result"
    },
    {
     "data": {
      "image/png": "[encoded data removed]",
      "text/plain": [
       "<Figure size 432x288 with 1 Axes>"
      ]
     },
     "metadata": {
      "needs_background": "light"
     },
     "output_type": "display_data"
    }
   ],
   "source": [
    "x = np.linspace(0,np.pi,25)\n",
    "plt.plot(x,np.sin(x))\n",
    "plt.xlabel('pi')\n",
    "plt.ylabel('sin')"
   ]
  },
  {
   "cell_type": "markdown",
   "metadata": {},
   "source": [
    "6. Для любого у в интервале от 0 до $\\pi$ не включительно существует эпсилон больше 0 при котором cos(y) > cos(y+эпсилон). Истина, потому что $\\pi$, при котором функция достигает минимального значения(-1) и начинает снова расти, не включено в интервал. **Отрицание:** в интервале от 0 до $\\pi$ не включительно существует такой у, для которого при любом эпсилон больше 0, cos(y) < cos(y+эпсилон). Ложно."
   ]
  },
  {
   "cell_type": "code",
   "execution_count": 27,
   "metadata": {
    "scrolled": true
   },
   "outputs": [
    {
     "data": {
      "text/plain": [
       "Text(0, 0.5, 'cos')"
      ]
     },
     "execution_count": 27,
     "metadata": {},
     "output_type": "execute_result"
    },
    {
     "data": {
      "image/png": "[encoded data removed]",
      "text/plain": [
       "<Figure size 432x288 with 1 Axes>"
      ]
     },
     "metadata": {
      "needs_background": "light"
     },
     "output_type": "display_data"
    }
   ],
   "source": [
    "x = np.linspace(0,np.pi,25)\n",
    "plt.plot(x,np.cos(x))\n",
    "plt.xlabel('pi')\n",
    "plt.ylabel('cos')"
   ]
  },
  {
   "cell_type": "markdown",
   "metadata": {},
   "source": [
    "7. Существует такой х, который не принадлежит к натуральным, целым, рациональным, вещественным или комплексным числам. **Отрицание:** любой x принадлежит к натуральным, целым, рациональным, вещественным или комплексным числам"
   ]
  },
  {
   "cell_type": "markdown",
   "metadata": {},
   "source": [
    "## Задание 3"
   ]
  },
  {
   "cell_type": "code",
   "execution_count": 67,
   "metadata": {
    "scrolled": true
   },
   "outputs": [
    {
     "name": "stdout",
     "output_type": "stream",
     "text": [
      "a: {'d', 'j', 'n', 'f'}\n",
      "b: {'h', 'w', 'v', 'j', 'f', 'l', 'k', 's', 'n'}\n",
      "c: {'q', 'w', 'p', 'r', 'n', 'o', 'i'}\n"
     ]
    }
   ],
   "source": [
    "a = set('fddfjdn')\n",
    "b = set('ljshfwkhnv')\n",
    "c = set('poqwirn')\n",
    "print(f'a: {a}')\n",
    "print(f'b: {b}')\n",
    "print(f'c: {c}')"
   ]
  },
  {
   "cell_type": "markdown",
   "metadata": {},
   "source": [
    "1. Пересечение: \n",
    "$$a\\cap b = \\{j,f,n\\}$$\n",
    "$$a\\cap с = \\{n\\}$$\n",
    "$$b\\cap с = \\{w,n\\}$$\n",
    "$$a\\cap b \\cap с = \\{n\\}$$"
   ]
  },
  {
   "cell_type": "markdown",
   "metadata": {},
   "source": [
    "2. Объединение:\n",
    "$$a\\cup b = \\{d, j, n, f, h, w, v, l, k, s\\}$$\n",
    "$$a\\cup b \\cup c = \\{d, j, n, f, h, w, v, l, k, s, q, p, r, o, i\\}$$"
   ]
  },
  {
   "cell_type": "markdown",
   "metadata": {},
   "source": [
    "3. Разность: \n",
    "$$a\\setminus b = \\{d\\}$$\n",
    "$$b\\setminus a = \\{h,k,l,s,v,w\\}$$\n",
    "$$a\\setminus b \\setminus c = \\{d\\}$$"
   ]
  },
  {
   "cell_type": "markdown",
   "metadata": {},
   "source": [
    "4. Симметрическая разность:\n",
    "$$a \\triangle b = \\{𝑑,ℎ,𝑤,𝑣,𝑙,𝑘,𝑠\\}$$\n",
    "$$a \\triangle b \\triangle c = \\{𝑑,𝑗,𝑓,ℎ,𝑤,𝑣,𝑙,𝑘,𝑠,𝑞,𝑝,𝑟,𝑜,𝑖\\}$$"
   ]
  },
  {
   "cell_type": "markdown",
   "metadata": {},
   "source": [
    "5. Декартовое множество:\n",
    "$$a X b = \\{\\{d,h\\}...\\{d,n\\},...,\\{f,s\\}\\{f,n\\}\\}$$"
   ]
  },
  {
   "cell_type": "markdown",
   "metadata": {},
   "source": [
    "## Задание 4"
   ]
  },
  {
   "cell_type": "markdown",
   "metadata": {},
   "source": [
    "1. Возрастает, неограниченная: $$\\{a_n\\}^\\infty_{n=1} = 2^n - n$$"
   ]
  },
  {
   "cell_type": "markdown",
   "metadata": {},
   "source": [
    "$$a_5 = 27$$"
   ]
  },
  {
   "cell_type": "markdown",
   "metadata": {},
   "source": [
    "2. Убывает, ограниченная, стремится к 0:\n",
    "$$\\{b_n\\}^\\infty_{n=2} = \\frac {1}{1-n}$$"
   ]
  },
  {
   "cell_type": "markdown",
   "metadata": {},
   "source": [
    "$$b_5 = -1/5$$"
   ]
  },
  {
   "cell_type": "markdown",
   "metadata": {},
   "source": [
    "3. Возрастает, так как -1 в степени всегда +-1 и растет вторая часть. Неограниченная последовательность."
   ]
  },
  {
   "cell_type": "markdown",
   "metadata": {},
   "source": [
    "$$\\{с_n\\}^\\infty_{n=1} = -1^n + \\sqrt{2n}$$"
   ]
  },
  {
   "cell_type": "markdown",
   "metadata": {},
   "source": [
    "$$c_5 = \\sqrt{10} - 1$$"
   ]
  },
  {
   "cell_type": "markdown",
   "metadata": {},
   "source": [
    "4. Убывает, ограниченная, стремится к 1, так как -1 в четной степени всегда 1 (при этом  вторая часть стремится к 0)"
   ]
  },
  {
   "cell_type": "markdown",
   "metadata": {},
   "source": [
    "$$\\{d_n\\}^\\infty_{n=1} = (-1)^{2n} + \\frac{1}{n^2}$$"
   ]
  },
  {
   "cell_type": "markdown",
   "metadata": {},
   "source": [
    "$$d_5 = 1.04$$"
   ]
  },
  {
   "cell_type": "markdown",
   "metadata": {},
   "source": [
    "## Задание 5"
   ]
  },
  {
   "cell_type": "markdown",
   "metadata": {},
   "source": [
    "Найти 12-й член неявной последовательности $$a_{n+1} - a_n = 6$$"
   ]
  },
  {
   "cell_type": "markdown",
   "metadata": {},
   "source": [
    "$$a_1 = 128$$"
   ]
  },
  {
   "cell_type": "markdown",
   "metadata": {},
   "source": [
    "$$a_{n+1} = 6 + a_n$$"
   ]
  },
  {
   "cell_type": "markdown",
   "metadata": {},
   "source": [
    "$$a_n = 6*(n-1) + a_1$$"
   ]
  },
  {
   "cell_type": "markdown",
   "metadata": {},
   "source": [
    "$$a_{12} = 6*11 + 128 = 194$$"
   ]
  }
 ],
 "metadata": {
  "kernelspec": {
   "display_name": "Python 3",
   "language": "python",
   "name": "python3"
  },
  "language_info": {
   "codemirror_mode": {
    "name": "ipython",
    "version": 3
   },
   "file_extension": ".py",
   "mimetype": "text/x-python",
   "name": "python",
   "nbconvert_exporter": "python",
   "pygments_lexer": "ipython3",
   "version": "3.7.6"
  }
 },
 "nbformat": 4,
 "nbformat_minor": 4
}
