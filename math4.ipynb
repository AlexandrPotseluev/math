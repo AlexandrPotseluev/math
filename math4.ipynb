{
 "cells": [
  {
   "cell_type": "code",
   "execution_count": 44,
   "metadata": {},
   "outputs": [],
   "source": [
    "import numpy as np\n",
    "import matplotlib.pyplot as plt\n",
    "\n",
    "%matplotlib inline"
   ]
  },
  {
   "cell_type": "markdown",
   "metadata": {},
   "source": [
    "### Задание 1"
   ]
  },
  {
   "cell_type": "markdown",
   "metadata": {},
   "source": [
    "Синус равен = 0 с периодичностью pi.\n",
    "$$\\frac{sin(x)}{x} = 0$$\n",
    "$$x = \\pi * n$$\n",
    "n - целое число и не равно 0"
   ]
  },
  {
   "cell_type": "markdown",
   "metadata": {},
   "source": [
    "### Задание 2"
   ]
  },
  {
   "cell_type": "markdown",
   "metadata": {},
   "source": [
    "Есть 3 уравнения. Пересекаются ли они?"
   ]
  },
  {
   "cell_type": "markdown",
   "metadata": {},
   "source": [
    "$$y=k_1*x+b_1$$\n",
    "$$y=k_2*x+b_2$$\n",
    "$$y=k_3*x+b_3$$"
   ]
  },
  {
   "cell_type": "markdown",
   "metadata": {},
   "source": [
    "Допустим они пересекаются в точке М(у,x):\n",
    "$$k_1*x+b_1 = k_2*x+b_2$$\n",
    "$$k_1*x+b_1 = k_3*x+b_3$$\n",
    "$$x = \\frac{b_2 - b_1}{k_1 - k_2}$$\n",
    "$$x = \\frac{b_3 - b_1}{k_1 - k_3}$$"
   ]
  },
  {
   "cell_type": "markdown",
   "metadata": {},
   "source": [
    "Таким образом, они пересекаются если выполняется равенство:\n",
    "$$\\frac{b_2 - b_1}{b_3 - b_1} = \\frac{k_1 - k_2}{k_1 - k_3}$$"
   ]
  },
  {
   "cell_type": "markdown",
   "metadata": {},
   "source": [
    "### Задание 3"
   ]
  },
  {
   "cell_type": "markdown",
   "metadata": {},
   "source": [
    "На листе тетради «в линейку» (расстояние между линиями равно а) лежит игла (длиной b). Координаты нижней точки иглы (х,у), игла лежит под углом alfa. Пересекает ли игла линию или нет?"
   ]
  },
  {
   "cell_type": "markdown",
   "metadata": {},
   "source": [
    "Длина иглы \"b\" - это радиус круга, центр которого лежит на нижней линии с координатами (х,у). Через него проходит линия на расстоянии \"а\" от центра. В таком случае игла будет пересекать линию во всех случаях, когда:\n",
    "$$b*sin\\alpha >=a$$"
   ]
  },
  {
   "cell_type": "markdown",
   "metadata": {},
   "source": [
    "### Задание 4"
   ]
  },
  {
   "cell_type": "markdown",
   "metadata": {},
   "source": [
    "$$sin(а*x) = 0$$\n",
    "при условии: 0.01<a<0.02, 100<х<500"
   ]
  },
  {
   "cell_type": "markdown",
   "metadata": {},
   "source": [
    "1) $$а*x=\\pi*n$$ где n - множество целых положительных чисел"
   ]
  },
  {
   "cell_type": "markdown",
   "metadata": {},
   "source": [
    "2) $$x=\\frac{n*\\pi}{a}$$"
   ]
  },
  {
   "cell_type": "markdown",
   "metadata": {},
   "source": [
    "Так как х нужно выразить через а, подставим минимальное и максимальное значение а в уравнение и возмем при этом минимальное значение n=1."
   ]
  },
  {
   "cell_type": "code",
   "execution_count": 63,
   "metadata": {
    "scrolled": true
   },
   "outputs": [
    {
     "name": "stdout",
     "output_type": "stream",
     "text": [
      "x1 = 314.1592653589793\n"
     ]
    }
   ],
   "source": [
    "x1=np.pi/0.01\n",
    "print(f'x1 = {x1}')"
   ]
  },
  {
   "cell_type": "code",
   "execution_count": 62,
   "metadata": {},
   "outputs": [
    {
     "name": "stdout",
     "output_type": "stream",
     "text": [
      "x2 = 157.07963267948966\n"
     ]
    }
   ],
   "source": [
    "x2=np.pi/0.02\n",
    "print(f'x2 = {x2}')"
   ]
  },
  {
   "cell_type": "markdown",
   "metadata": {},
   "source": [
    "В данном случае, при n = 1 \"х\" попадает в ограничения, указанные в условии задачи  100<х<500. Если n > 1 (то есть 2,3,4,...), то мы нарушаем это условие и выходим за допустимые границы х. Значит n = 1. Таким образом, уравнение х(а) в итоге будет:"
   ]
  },
  {
   "cell_type": "markdown",
   "metadata": {},
   "source": [
    "3) $$x=\\frac{\\pi}{a}$$"
   ]
  },
  {
   "cell_type": "code",
   "execution_count": 76,
   "metadata": {},
   "outputs": [
    {
     "data": {
      "text/plain": [
       "(158, 315)"
      ]
     },
     "execution_count": 76,
     "metadata": {},
     "output_type": "execute_result"
    },
    {
     "data": {
      "image/png": "[encoded data removed]",
      "text/plain": [
       "<Figure size 432x288 with 1 Axes>"
      ]
     },
     "metadata": {
      "needs_background": "light"
     },
     "output_type": "display_data"
    }
   ],
   "source": [
    "a = np.linspace(0.01,0.02,100)\n",
    "x = np.pi/a\n",
    "plt.plot(a,x)\n",
    "plt.xlabel('a')\n",
    "plt.ylabel('x')\n",
    "plt.xlim([0.01,0.02])\n",
    "plt.ylim([158,315])"
   ]
  },
  {
   "cell_type": "markdown",
   "metadata": {},
   "source": [
    "### Задание 17.6.2"
   ]
  },
  {
   "cell_type": "markdown",
   "metadata": {},
   "source": [
    "Найти угол $\\alpha$ между прямыми:"
   ]
  },
  {
   "cell_type": "markdown",
   "metadata": {},
   "source": [
    "1) $$4y-3x+12=0$$\n",
    "2) $$7y+x-14=0$$"
   ]
  },
  {
   "cell_type": "markdown",
   "metadata": {},
   "source": [
    "3) $$y=3/4x-3$$\n",
    "4) $$y=-1/7x+2$$"
   ]
  },
  {
   "cell_type": "markdown",
   "metadata": {},
   "source": [
    "$$k_1=\\frac{3}{4}$$\n",
    "$$k_2=-\\frac{1}{7}$$"
   ]
  },
  {
   "cell_type": "markdown",
   "metadata": {},
   "source": [
    "5) $$tg\\alpha = \\frac{k_1-k_2}{1+k_1*k_2}$$"
   ]
  },
  {
   "cell_type": "markdown",
   "metadata": {},
   "source": [
    "$$tg\\alpha = \\frac{25}{25} = 1$$"
   ]
  },
  {
   "cell_type": "markdown",
   "metadata": {},
   "source": [
    "$$\\alpha = 45$$"
   ]
  },
  {
   "cell_type": "markdown",
   "metadata": {},
   "source": [
    "### Вяснить тип кривых второго порядка:"
   ]
  },
  {
   "cell_type": "markdown",
   "metadata": {},
   "source": [
    " 17.6.5"
   ]
  },
  {
   "cell_type": "markdown",
   "metadata": {},
   "source": [
    "$$y^2-2x-2y-5=0$$\n",
    "$$y^2-2y+1=2x+6$$\n",
    "$$(y-1)^2=2(x+3)$$\n",
    "Ответ: парабола $y^2=2px$"
   ]
  },
  {
   "cell_type": "markdown",
   "metadata": {},
   "source": [
    "17.6.7"
   ]
  },
  {
   "cell_type": "markdown",
   "metadata": {},
   "source": [
    "$$2x^2-y^2+6y-7=0$$\n",
    "$$2x^2-(y^2-6y+9)=-2$$\n",
    "$$2x^2-(y-3)^2=-2$$\n",
    "$$x^2-1/2(y-3)^2=-1$$\n",
    "Ответ: гипербола $x^2-y^2=1(-1)$"
   ]
  }
 ],
 "metadata": {
  "kernelspec": {
   "display_name": "Python 3",
   "language": "python",
   "name": "python3"
  },
  "language_info": {
   "codemirror_mode": {
    "name": "ipython",
    "version": 3
   },
   "file_extension": ".py",
   "mimetype": "text/x-python",
   "name": "python",
   "nbconvert_exporter": "python",
   "pygments_lexer": "ipython3",
   "version": "3.7.6"
  }
 },
 "nbformat": 4,
 "nbformat_minor": 4
}
