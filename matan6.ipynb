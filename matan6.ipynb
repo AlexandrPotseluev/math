{
 "cells": [
  {
   "cell_type": "markdown",
   "metadata": {},
   "source": [
    "# Ряды"
   ]
  },
  {
   "cell_type": "markdown",
   "metadata": {},
   "source": [
    "1. Исследовать ряд на сходимость, используя признак д’Аламбера:"
   ]
  },
  {
   "cell_type": "markdown",
   "metadata": {},
   "source": [
    "$$\\sum\\limits_{n=1}^{\\infty} \\frac{n^n}{{n!}^2}$$"
   ]
  },
  {
   "cell_type": "markdown",
   "metadata": {},
   "source": [
    "$a_n = \\frac{n^n}{(n!)^2}, a_{n+1} = \\frac{(n+1)^{n+1}}{{(n+1)!}^2}$"
   ]
  },
  {
   "cell_type": "markdown",
   "metadata": {},
   "source": [
    "$\\lim\\limits_{n\\to\\infty} \\frac{a_{n+1}}{a_n} = \\lim\\limits_{n\\to\\infty}\\left( \\frac{(n+1)^{n+1}}{{(n+1)!}^2} * \\frac{(n!)^2}{n^n}\\right) = \\lim\\limits_{n\\to\\infty} \\frac{(n+1)^n*(n+1)*{n!}^2}{{n!}^2*(n+1)^2*n^n} = \\lim\\limits_{n\\to\\infty}\\left(\\frac{1}{n+1} * \\left(1+\\frac{1}{n}\\right)^n\\right) = q$"
   ]
  },
  {
   "cell_type": "markdown",
   "metadata": {},
   "source": [
    "При n стремящимся к бесконечности правая часть (1+1/n)^n стремится к 1, а левая часть к нулю. Соответственно q стремится к 0, то есть < 1.\n",
    "\n",
    "Таким образом ряд сходится. "
   ]
  },
  {
   "cell_type": "markdown",
   "metadata": {},
   "source": [
    "2. Исследовать ряд на сходимость, используя радикальный признак Коши:"
   ]
  },
  {
   "cell_type": "markdown",
   "metadata": {},
   "source": [
    "$$\\sum\\limits_{n=1}^{\\infty} \\frac{n}{2^n}$$"
   ]
  },
  {
   "cell_type": "markdown",
   "metadata": {},
   "source": [
    "$\\lim\\limits_{n\\to\\infty} \\sqrt[n]{a_n} = \\lim\\limits_{n\\to\\infty} {a_n}^{1/n} = \\lim\\limits_{n\\to\\infty} \\left(\\frac{n}{2^n}\\right)^{1/n} = \\lim\\limits_{n\\to\\infty} \\left(\\frac{1}{2}*n^{1/n}\\right) = 1/2*n^0 = 1/2*1 = 1/2 < 1$"
   ]
  },
  {
   "cell_type": "markdown",
   "metadata": {},
   "source": [
    "Ряд сходится"
   ]
  },
  {
   "cell_type": "markdown",
   "metadata": {},
   "source": [
    "3. Исследовать ряд на сходимость, используя признак Лейбница:"
   ]
  },
  {
   "cell_type": "markdown",
   "metadata": {},
   "source": [
    "$$\\sum\\limits_{n=1}^{\\infty} \\frac{(-1)^n}{n+ln(n)}$$"
   ]
  },
  {
   "cell_type": "markdown",
   "metadata": {},
   "source": [
    "- $\\lim\\limits_{n\\to\\infty} \\frac{(-1)^n}{n+ln(n)}=0$"
   ]
  },
  {
   "cell_type": "markdown",
   "metadata": {},
   "source": [
    "- Каждый последующий член ряда по модулю меньше предыдущего"
   ]
  },
  {
   "cell_type": "markdown",
   "metadata": {},
   "source": [
    "Таким образом, ряд сходится."
   ]
  },
  {
   "cell_type": "markdown",
   "metadata": {},
   "source": [
    "4. Исследовать ряд на сходимость, используя признак Раабе:"
   ]
  },
  {
   "cell_type": "markdown",
   "metadata": {},
   "source": [
    "$$\\sum\\limits_{n=1}^{\\infty} \\frac{3^n}{2^n}$$"
   ]
  },
  {
   "cell_type": "markdown",
   "metadata": {},
   "source": [
    "$a_n = \\left(\\frac{3}{2}\\right)^n, a_{n+1} = \\left(\\frac{3}{2}\\right)^{n+1}$"
   ]
  },
  {
   "cell_type": "markdown",
   "metadata": {},
   "source": [
    "$\\lim\\limits_{n\\to\\infty}\\left(n*\\left({(3/2)^n} *{(3/2)^{-(n+1)}}-1\\right)\\right) = \\lim\\limits_{n\\to\\infty} (n*(2/3-1)) = \\lim\\limits_{n\\to\\infty}(-n/3) < 1$"
   ]
  },
  {
   "cell_type": "markdown",
   "metadata": {},
   "source": [
    "Ряд расходится"
   ]
  },
  {
   "cell_type": "markdown",
   "metadata": {},
   "source": [
    "5. Разложить функцию по Тейлору в единице:"
   ]
  },
  {
   "cell_type": "markdown",
   "metadata": {},
   "source": [
    "$$f(x) = ln(16x^2) = ln(4x)^2 = 2*ln(4x), a = 1$$"
   ]
  },
  {
   "cell_type": "markdown",
   "metadata": {},
   "source": [
    "$f(1) = 2*ln4$"
   ]
  },
  {
   "cell_type": "markdown",
   "metadata": {},
   "source": [
    "$f(x)' = 2*\\frac{4}{4x} = 2*\\frac{1}{x}, f(1)' = 2$"
   ]
  },
  {
   "cell_type": "markdown",
   "metadata": {},
   "source": [
    "$f(x)^{(2)} = -2*\\frac{1}{x^2}, f(2)^{(2)} = -2$"
   ]
  },
  {
   "cell_type": "markdown",
   "metadata": {},
   "source": [
    "$f(x)^{(3)} = 4*\\frac{1}{x^3}, f(3)^{(3)} = 4$"
   ]
  },
  {
   "cell_type": "markdown",
   "metadata": {},
   "source": [
    "$f(x)^{(4)} = 4*(-3)\\frac{1}{x^4}, f(4)^{(4)} = -12$"
   ]
  },
  {
   "cell_type": "markdown",
   "metadata": {},
   "source": [
    "$f(x) = \\left(2*ln4 +2*\\frac{x-1}{1!} - 2*\\frac{x-1}{2!} + 2*\\frac{2*(x-1)}{3!} - 2*\\frac{2*3*(x-1)}{4!}+...\\right)$"
   ]
  },
  {
   "cell_type": "markdown",
   "metadata": {},
   "source": [
    "$f(x) = 2*\\left(ln4 + \\sum\\limits_{n=1}^{\\infty} (-1)^{(n+1)} * \\frac{(n-1)!}{n!} *(x-1)\\right)$"
   ]
  },
  {
   "cell_type": "markdown",
   "metadata": {},
   "source": [
    "6. Дана функция $f(x) = x^2$(четная функция)"
   ]
  },
  {
   "cell_type": "markdown",
   "metadata": {},
   "source": [
    "a. Разложить функцию в ряд Фурье по косинусам на отрезке x $[-\\pi;\\pi]$"
   ]
  },
  {
   "cell_type": "markdown",
   "metadata": {},
   "source": [
    "$$f(x) = a_0 + \\sum\\limits_{n=1}^{\\infty} a_n*cos(nx)$$"
   ]
  },
  {
   "cell_type": "markdown",
   "metadata": {},
   "source": [
    "Для четной функции можно брать половину интервала с коэффициентом 2"
   ]
  },
  {
   "cell_type": "markdown",
   "metadata": {},
   "source": [
    "$$a_0 =\\frac{1}{2\\pi} \\int_{-\\pi}^{\\pi} f(x)dx = \\frac{2}{2\\pi} \\int_{0}^{\\pi} x^2 dx = \\frac{1}{\\pi}*\\frac{x^3}{3}|_0^\\pi = \\frac{\\pi^2}{3}$$"
   ]
  },
  {
   "cell_type": "markdown",
   "metadata": {},
   "source": [
    "$$a_n = \\frac{2}{\\pi} \\int_{0}^{\\pi} x^2*cos(nx)dx$$"
   ]
  },
  {
   "cell_type": "markdown",
   "metadata": {},
   "source": [
    "$$U*V - \\int V*du$$"
   ]
  },
  {
   "cell_type": "markdown",
   "metadata": {},
   "source": [
    "1) $$U=x^2$$"
   ]
  },
  {
   "cell_type": "markdown",
   "metadata": {},
   "source": [
    "$$du = 2xdx$$"
   ]
  },
  {
   "cell_type": "markdown",
   "metadata": {},
   "source": [
    "$$dv = cos(nx)dx$$"
   ]
  },
  {
   "cell_type": "markdown",
   "metadata": {},
   "source": [
    "$$V = \\int cos(nx)dx = \\frac{1}{n} \\int cos(nx)d(nx) = \\frac{1}{n} sin(nx)$$"
   ]
  },
  {
   "cell_type": "markdown",
   "metadata": {},
   "source": [
    "$$a_n = \\frac{2}{\\pi}*\\left(\\frac{x^2}{n}*sin(nx) - \\int \\frac{2x}{n}*sin(nx)*dx \\right) $$"
   ]
  },
  {
   "cell_type": "markdown",
   "metadata": {},
   "source": [
    "2)$$U=\\frac{2x}{n}$$"
   ]
  },
  {
   "cell_type": "markdown",
   "metadata": {},
   "source": [
    "$$du = -\\frac{2}{n^2}dx$$"
   ]
  },
  {
   "cell_type": "markdown",
   "metadata": {},
   "source": [
    "$$dv = sin(nx)dx$$"
   ]
  },
  {
   "cell_type": "markdown",
   "metadata": {},
   "source": [
    "$$V = \\int sin(nx)dx = \\frac{1}{n} \\int sin(nx)d(nx) = -\\frac{1}{n} cos(nx)$$"
   ]
  },
  {
   "cell_type": "markdown",
   "metadata": {},
   "source": [
    "$$a_n = \\frac{2}{\\pi}*\\left(\\frac{x^2}{n}*sin(nx) +\\frac{2x}{n}*\\frac{1}{n} cos(nx) - \\int\\frac{2}{n^2} * \\frac{1}{n} cos(nx)dx\\right) = \\frac{2}{\\pi}*\\left(\\frac{x^2}{n}*sin(nx) +\\frac{2x}{n^2} cos(nx) - \\frac{2}{n^3}\\int cos(nx)dx\\right)$$"
   ]
  },
  {
   "cell_type": "markdown",
   "metadata": {},
   "source": [
    "Так как из первой части $$\\int cos(nx)dx = \\frac{1}{n} sin(nx)$$"
   ]
  },
  {
   "cell_type": "markdown",
   "metadata": {},
   "source": [
    "Тогда $$a_n = \\frac{2}{\\pi}*\\left(\\frac{x^2}{n}*sin(nx) +\\frac{2x}{n^2} cos(nx) - \\frac{2}{n^4} sin(nx)\\right)$$"
   ]
  },
  {
   "cell_type": "markdown",
   "metadata": {},
   "source": [
    "x от 0 до $\\pi$"
   ]
  },
  {
   "cell_type": "markdown",
   "metadata": {},
   "source": [
    "$sin(n\\pi) = sin(0)=0,\n",
    "cos(0) = 1$"
   ]
  },
  {
   "cell_type": "markdown",
   "metadata": {},
   "source": [
    "Однако:"
   ]
  },
  {
   "cell_type": "markdown",
   "metadata": {},
   "source": [
    "при n = 1, $cos(\\pi) = -1$"
   ]
  },
  {
   "cell_type": "markdown",
   "metadata": {},
   "source": [
    "при n = 2, $cos(2\\pi) = 1$"
   ]
  },
  {
   "cell_type": "markdown",
   "metadata": {},
   "source": [
    "при n = 3, $cos(3\\pi) = -1$"
   ]
  },
  {
   "cell_type": "markdown",
   "metadata": {},
   "source": [
    "при n = 4, $cos(4\\pi) = 1$"
   ]
  },
  {
   "cell_type": "markdown",
   "metadata": {},
   "source": [
    "То есть $cos(n\\pi) = (-1)^n$"
   ]
  },
  {
   "cell_type": "markdown",
   "metadata": {},
   "source": [
    "Тогда:"
   ]
  },
  {
   "cell_type": "markdown",
   "metadata": {},
   "source": [
    "$$a_n|_0^\\pi = \\frac{2}{\\pi}*\\frac{2\\pi}{n^2} cos(n\\pi) - \\frac{2}{\\pi}*\\frac{2\\pi}{n^2} cos(0) = \\frac{4}{n^2}*cos(n\\pi)-\\frac{4}{n^2} = \\frac{4}{n^2}(cos(n\\pi)-1)$$"
   ]
  },
  {
   "cell_type": "markdown",
   "metadata": {},
   "source": [
    "$$f(x)|_0^\\pi =  \\frac{\\pi^2}{3} + \\sum\\limits_{n=1}^{\\infty} \\frac{4}{n^2}(cos(n\\pi)-1)*cos(n\\pi)$$"
   ]
  },
  {
   "cell_type": "markdown",
   "metadata": {},
   "source": [
    "$$f(x)|_0^\\pi =  \\frac{\\pi^2}{3} + \\sum\\limits_{n=1}^{\\infty} \\frac{4}{n^2}(1-(-1)^n)$$"
   ]
  },
  {
   "cell_type": "markdown",
   "metadata": {},
   "source": [
    "# Интегралы"
   ]
  },
  {
   "cell_type": "markdown",
   "metadata": {},
   "source": [
    "1. Неопределенный интеграл: $$\\int (2x^2-2x-1+sinx-cosx+lnx+e^x)dx$$"
   ]
  },
  {
   "cell_type": "markdown",
   "metadata": {},
   "source": [
    "$$= \\frac{2x^3}{3} -x^2 - x - cosx - sinx + x*lnx + e^x+C$$"
   ]
  },
  {
   "cell_type": "markdown",
   "metadata": {},
   "source": [
    "2. Неопределенный интеграл:"
   ]
  },
  {
   "cell_type": "markdown",
   "metadata": {},
   "source": [
    "$$\\int (2x+6xz^2-5x^2y-3*ln(z))dx$$"
   ]
  },
  {
   "cell_type": "markdown",
   "metadata": {},
   "source": [
    "$$= x^2 + 3x^2z^2 - \\frac{5}{3}x^3y - 3x*ln(z) + C$$"
   ]
  },
  {
   "cell_type": "markdown",
   "metadata": {},
   "source": [
    "3. Определенный интеграл:"
   ]
  },
  {
   "cell_type": "markdown",
   "metadata": {},
   "source": [
    "$$\\int_{0}^{\\pi} 3x^2*sin(2x)dx = \\frac{3}{2}\\int_{0}^{\\pi} x^2*sin(2x)d(2x) $$"
   ]
  },
  {
   "cell_type": "markdown",
   "metadata": {},
   "source": [
    "$$U*V - \\int V*du$$"
   ]
  },
  {
   "cell_type": "markdown",
   "metadata": {},
   "source": [
    "1)$$U=x^2, du = 2xdx$$"
   ]
  },
  {
   "cell_type": "markdown",
   "metadata": {},
   "source": [
    "$$dv = sin(2x)d(2x), V = -cos(2x)$$"
   ]
  },
  {
   "cell_type": "markdown",
   "metadata": {},
   "source": [
    "$$ - x^2*cos(2x) + \\int 2x*cos(2x)dx$$"
   ]
  },
  {
   "cell_type": "markdown",
   "metadata": {},
   "source": [
    "2) $$\\int 2x*cos(2x)dx = \\int x*cos(2x)d(2x)$$"
   ]
  },
  {
   "cell_type": "markdown",
   "metadata": {},
   "source": [
    "$$U=x, du = dx$$"
   ]
  },
  {
   "cell_type": "markdown",
   "metadata": {},
   "source": [
    "$$dv = cos(2x)d(2x), V = sin(2x)$$"
   ]
  },
  {
   "cell_type": "markdown",
   "metadata": {},
   "source": [
    "$$x*sin(2x) - \\int sin(2x)dx = x*sin(2x) +\\frac{1}{2}*cos(2x)+C$$"
   ]
  },
  {
   "cell_type": "markdown",
   "metadata": {},
   "source": [
    "$$\\frac{3}{2}*\\left(- x^2*cos(2x) + x*sin(2x) +\\frac{1}{2}*cos(2x)+C\\right)$$"
   ]
  },
  {
   "cell_type": "markdown",
   "metadata": {},
   "source": [
    "$$\\int_{0}^{\\pi} 3x^2*sin(2x)dx =-\\frac{3}{2}*\\pi^2+\\frac{3}{4}+C+\\frac{3}{2}*\\pi^2-\\frac{3}{4}-C=0$$"
   ]
  },
  {
   "cell_type": "markdown",
   "metadata": {},
   "source": [
    "4. Неопределенный интеграл: $$\\int\\frac{1}{\\sqrt{x+1}}dx$$"
   ]
  },
  {
   "cell_type": "markdown",
   "metadata": {},
   "source": [
    "$$a=\\sqrt{x+1}, a>0$$"
   ]
  },
  {
   "cell_type": "markdown",
   "metadata": {},
   "source": [
    "$$x=a^2-1, dx=2ada$$"
   ]
  },
  {
   "cell_type": "markdown",
   "metadata": {},
   "source": [
    " $$\\int\\frac{1}{\\sqrt{x+1}}dx = \\int\\frac{1}{a}*2ada = \\int2da = 2a+C=2\\sqrt{x+1}+C$$"
   ]
  }
 ],
 "metadata": {
  "kernelspec": {
   "display_name": "Python 3",
   "language": "python",
   "name": "python3"
  },
  "language_info": {
   "codemirror_mode": {
    "name": "ipython",
    "version": 3
   },
   "file_extension": ".py",
   "mimetype": "text/x-python",
   "name": "python",
   "nbconvert_exporter": "python",
   "pygments_lexer": "ipython3",
   "version": "3.7.6"
  }
 },
 "nbformat": 4,
 "nbformat_minor": 4
}
