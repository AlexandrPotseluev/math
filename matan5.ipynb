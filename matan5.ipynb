{
 "cells": [
  {
   "cell_type": "markdown",
   "metadata": {},
   "source": [
    "1. Исследовать на условный экстремум: $$U=3-8x+6y,$$ $$x^2+y^2=36$$"
   ]
  },
  {
   "cell_type": "markdown",
   "metadata": {},
   "source": [
    "$$U(l,x,y)=3-8x+6y+l(x^2+y^2-36)$$"
   ]
  },
  {
   "cell_type": "markdown",
   "metadata": {},
   "source": [
    "$$(1)U_x' = -8+2xl = xl-4 = 0, x=\\frac{4}{l}$$"
   ]
  },
  {
   "cell_type": "markdown",
   "metadata": {},
   "source": [
    "$$(2)U_y' = 6+2yl = yl+3 = 0, y=-\\frac{3}{l}$$"
   ]
  },
  {
   "cell_type": "markdown",
   "metadata": {},
   "source": [
    "$$(3)U_l' = x^2+y^2-36 = 0$$\n",
    "$$\\frac{16+9}{l^2}=36$$\n",
    "$$l_1 = \\sqrt{\\frac{25}{36}} = \\frac{5}{6}$$\n",
    "$$l_2 = -\\frac{5}{6}$$"
   ]
  },
  {
   "cell_type": "markdown",
   "metadata": {},
   "source": [
    "$$U_{ll}'' = 0, U_{lx}'' = 2x, U_{ly}'' = 2y$$\n",
    "$$U_{xl}'' = 2x, U_{xx}'' = 2l, U_{xy}'' = 0$$\n",
    "$$U_{yl}'' = 2y, U_{yx}'' = 0, U_{yy}'' = 2l$$"
   ]
  },
  {
   "cell_type": "markdown",
   "metadata": {},
   "source": [
    "\\begin{bmatrix}\n",
    "    0&2x&2y\\\\\n",
    "    2x&2l&0\\\\\n",
    "    2y&0&2l\\\\\n",
    "\\end{bmatrix}"
   ]
  },
  {
   "cell_type": "markdown",
   "metadata": {},
   "source": [
    "$$0-2x(2x*2l - 2y*0)+2y(2x*0 - 2y*2l) = -2x*4xl - 2y*4yl = -8l(x^2+y^2)$$"
   ]
  },
  {
   "cell_type": "markdown",
   "metadata": {},
   "source": [
    "Правая часть всегда положительная, таким образом, при $l_2 = -\\frac{5}{6}$ достигается максимум функции, при $l_1= \\frac{5}{6}$ - минимум"
   ]
  },
  {
   "cell_type": "markdown",
   "metadata": {},
   "source": [
    "2. Исследовать на условный экстремум: $$U=2x^2+12xy+32y^2+15,$$ $$x^2+16y^2=64$$"
   ]
  },
  {
   "cell_type": "markdown",
   "metadata": {},
   "source": [
    "$$U(l,x,y)=2x^2+12xy+32y^2+15+l(x^2+16y^2-64)$$"
   ]
  },
  {
   "cell_type": "markdown",
   "metadata": {},
   "source": [
    "$$(1)U_x' = 4x+12y+2lx = 2x+6y+lx = 0, x = - \\frac{6y}{2+l}$$\n",
    "$$(2)U_y' = 12x+64y+32ly = 3x+16y+8ly = 0$$\n",
    "$$(3)U_l' = x^2+16y^2-64 = 0 $$"
   ]
  },
  {
   "cell_type": "markdown",
   "metadata": {},
   "source": [
    "$$U_{ll}'' = 0, U_{lx}'' = 2x, U_{ly}'' = 32y = 2*16y$$\n",
    "$$U_{xl}'' = x, U_{xx}'' = 2+l, U_{xy}'' = 6$$\n",
    "$$U_{yl}'' = 8y, U_{yx}'' = 3, U_{yy}'' = 16+8l = 8(2+l)$$"
   ]
  },
  {
   "cell_type": "markdown",
   "metadata": {},
   "source": [
    "Пусть $a = 2+l$, тогда матрица:"
   ]
  },
  {
   "cell_type": "markdown",
   "metadata": {},
   "source": [
    "\\begin{bmatrix}\n",
    "    0&2x&2*16y\\\\\n",
    "    x&a&6\\\\\n",
    "    8y&3&8a\\\\\n",
    "\\end{bmatrix}"
   ]
  },
  {
   "cell_type": "markdown",
   "metadata": {},
   "source": [
    "$$0-2x(x*8a-6*8y) + 2*16y(x*3-8y*a) = -16ax^2 + 16*6xy + 16*6xy - 16*16ay^2 = 12*16xy - 16ax^2 - 16*16ay^2 = 16*(12xy - a(x^2+16y^2))$$"
   ]
  },
  {
   "cell_type": "markdown",
   "metadata": {},
   "source": [
    "Так как $x^2+16y^2 = 64$, то:"
   ]
  },
  {
   "cell_type": "markdown",
   "metadata": {},
   "source": [
    "$$16*(12xy - a(x^2+16y^2)) = 16*(12xy - 64a)= 16*4*(3xy-16a)$$"
   ]
  },
  {
   "cell_type": "markdown",
   "metadata": {},
   "source": [
    "Таким образом, отрицательным или положительным может быть только правая часть: $3xy-16a$. Теперь подставим ранее полученное значение $x = - \\frac{6y}{2+l} = - \\frac{6y}{a}$"
   ]
  },
  {
   "cell_type": "markdown",
   "metadata": {},
   "source": [
    "$$3xy-16a$ = - \\frac{3*6y}{a} - 16a$$"
   ]
  },
  {
   "cell_type": "markdown",
   "metadata": {},
   "source": [
    "$$-18y < 16a^2$$"
   ]
  },
  {
   "cell_type": "markdown",
   "metadata": {},
   "source": [
    "Левая часть выражения будет всегда меньше правой части при любых $l,x и y$. Таким образом, при таких условиях данная функция не имеет максимума . Только минимум."
   ]
  },
  {
   "cell_type": "markdown",
   "metadata": {},
   "source": [
    "3. Найти производную функции по направлениювектора в точку: $$U=x^2+y^2+z^2,$$ $$вектор c(-9,8,-12),$$ $$точка M(8,-12,9)$$"
   ]
  },
  {
   "cell_type": "markdown",
   "metadata": {},
   "source": [
    "$$|c|=\\sqrt{81+64+144} = \\sqrt{289} = 17$$"
   ]
  },
  {
   "cell_type": "markdown",
   "metadata": {},
   "source": [
    "$$c_0\\left(-\\frac{9}{17}, \\frac{8}{17}, -\\frac{12}{17}\\right)$$"
   ]
  },
  {
   "cell_type": "markdown",
   "metadata": {},
   "source": [
    "$$U_x' = 2x$$ $$U_y' = 2y$$ $$U_z' = 2z$$"
   ]
  },
  {
   "cell_type": "markdown",
   "metadata": {},
   "source": [
    "$$gradU|_{(8,-12,9)} = (16,-24,18)$$"
   ]
  },
  {
   "cell_type": "markdown",
   "metadata": {},
   "source": [
    "$$U_c'|_{(8,-12,9)} = -\\frac{9*16+8*24+12*18}{17} = -\\frac{552}{17} = -32.47$$"
   ]
  },
  {
   "cell_type": "markdown",
   "metadata": {},
   "source": [
    "4.  Найти производную функции по направлению вектора в точку: $$U=e^{x^2+y^2+z^2}$$ $$вектор d(4,-13,-16),$$ $$точка L(-16,4,-13)$$"
   ]
  },
  {
   "cell_type": "markdown",
   "metadata": {},
   "source": [
    "$$|d|=\\sqrt{16+169+256} = 21$$"
   ]
  },
  {
   "cell_type": "markdown",
   "metadata": {},
   "source": [
    "$$d_0\\left(\\frac{4}{21}, - \\frac{13}{21}, -\\frac{16}{21}\\right)$$"
   ]
  },
  {
   "cell_type": "markdown",
   "metadata": {},
   "source": [
    "$$U_x' = U*2x$$ $$U_y' = U*2y$$ $$U_z' = U*2z$$"
   ]
  },
  {
   "cell_type": "markdown",
   "metadata": {},
   "source": [
    "$$gradU|_{(-16,4,-13)} = (-32*U_L,8*U_L,-26*U_L)$$"
   ]
  },
  {
   "cell_type": "markdown",
   "metadata": {},
   "source": [
    "$$U_L = e^{(-16)^2+4^2+(-13)^2} = e^{441}$$"
   ]
  },
  {
   "cell_type": "markdown",
   "metadata": {},
   "source": [
    "$$U_d'|_{(-16,4,-13)} = \\frac{-4*32-13*8+16*26}{21}*U_L = \\frac{184}{21}*U_L  = \\frac{184*e^{441}}{21}$$"
   ]
  }
 ],
 "metadata": {
  "kernelspec": {
   "display_name": "Python 3",
   "language": "python",
   "name": "python3"
  },
  "language_info": {
   "codemirror_mode": {
    "name": "ipython",
    "version": 3
   },
   "file_extension": ".py",
   "mimetype": "text/x-python",
   "name": "python",
   "nbconvert_exporter": "python",
   "pygments_lexer": "ipython3",
   "version": "3.7.6"
  }
 },
 "nbformat": 4,
 "nbformat_minor": 4
}
