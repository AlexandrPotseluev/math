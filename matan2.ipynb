{
 "cells": [
  {
   "cell_type": "code",
   "execution_count": 1,
   "metadata": {},
   "outputs": [],
   "source": [
    "import numpy as np\n",
    "import matplotlib.pyplot as plt"
   ]
  },
  {
   "cell_type": "markdown",
   "metadata": {},
   "source": [
    "1. Предложить пример функции, не имеющей предела в нуле и в бесконечностях."
   ]
  },
  {
   "cell_type": "markdown",
   "metadata": {},
   "source": [
    "f(x) = 1/x"
   ]
  },
  {
   "cell_type": "code",
   "execution_count": 32,
   "metadata": {},
   "outputs": [
    {
     "data": {
      "text/plain": [
       "Text(0, 0.5, 'y')"
      ]
     },
     "execution_count": 32,
     "metadata": {},
     "output_type": "execute_result"
    },
    {
     "data": {
      "image/png": "[encoded data removed]",
      "text/plain": [
       "<Figure size 432x288 with 1 Axes>"
      ]
     },
     "metadata": {
      "needs_background": "light"
     },
     "output_type": "display_data"
    }
   ],
   "source": [
    "x = np.linspace(-100,100,1000)\n",
    "y = 1/x\n",
    "plt.plot(x,y)\n",
    "plt.xlabel('x')\n",
    "plt.ylabel('y')"
   ]
  },
  {
   "cell_type": "markdown",
   "metadata": {},
   "source": [
    "3. $f(x) = x^3 - x^2 = x^2(x-1)$"
   ]
  },
  {
   "cell_type": "code",
   "execution_count": 27,
   "metadata": {},
   "outputs": [
    {
     "data": {
      "text/plain": [
       "Text(0, 0.5, 'y')"
      ]
     },
     "execution_count": 27,
     "metadata": {},
     "output_type": "execute_result"
    },
    {
     "data": {
      "image/png": "[encoded data removed]",
      "text/plain": [
       "<Figure size 432x288 with 1 Axes>"
      ]
     },
     "metadata": {
      "needs_background": "light"
     },
     "output_type": "display_data"
    }
   ],
   "source": [
    "x = np.linspace(0,1,100)\n",
    "y = x**3 - x**2\n",
    "plt.plot(x,y)\n",
    "plt.xlabel('x')\n",
    "plt.ylabel('y')"
   ]
  },
  {
   "cell_type": "markdown",
   "metadata": {},
   "source": [
    "Область задания и значений: $[-\\infty;+\\infty]$"
   ]
  },
  {
   "cell_type": "markdown",
   "metadata": {},
   "source": [
    "Нули функции в значениях: 0 и 1"
   ]
  },
  {
   "cell_type": "markdown",
   "metadata": {},
   "source": [
    "Отрицательные значения $[-\\infty;0)$ и $(0;1)$"
   ]
  },
  {
   "cell_type": "markdown",
   "metadata": {},
   "source": [
    "Положительные значения $(1;+\\infty]$"
   ]
  },
  {
   "cell_type": "markdown",
   "metadata": {},
   "source": [
    "Производная: $3x^2 - 2x = x(3x - 2) = 0$. Функция убывает на отрезке от 0 до 2/3 и возрастает на остальных отрезках: от минус бесконечности до 0 и от 2/3 до плюс бесконечности."
   ]
  },
  {
   "cell_type": "markdown",
   "metadata": {},
   "source": [
    "Функция не является четной или нечетной, поскольку преобретает отрицательные значения как при отрицательных, так и при определенных положительных значениях."
   ]
  },
  {
   "cell_type": "markdown",
   "metadata": {},
   "source": [
    "Неограниченная, непериодическая функция"
   ]
  },
  {
   "cell_type": "markdown",
   "metadata": {},
   "source": [
    "4.1 $$\\lim_{x\\to 0}\\frac{3x^3-2x^2}{4x^2} = \\frac{x^2(3x-2)}{4x^2} = \\frac{(3x-2)}{4} = -1/2$$"
   ]
  },
  {
   "cell_type": "markdown",
   "metadata": {},
   "source": [
    "4.2 $$\\lim_{x\\to 0}\\frac{(1+x)^{1/2} - 1}{(1+x)^{1/3} - 1}$$"
   ]
  },
  {
   "cell_type": "markdown",
   "metadata": {},
   "source": [
    "Пусть 1+x = a, тогда: $$\\lim_{x\\to 0}\\frac{a^{1/2} - 1}{a^{1/3} - 1} = \\frac{a^{1/2} - 1}{a^{1/3} - 1} * \\frac{a^{2/3}+a^{1/3}+ 1}{a^{2/3}+a^{1/3}+ 1} * \\frac{a^{1/2} + 1}{a^{1/2} + 1} = \\frac{a - 1}{a - 1} * \\frac{a^{2/3}+a^{1/3}+ 1}{a^{1/2} + 1} = \\frac{a^{2/3}+a^{1/3}+ 1}{a^{1/2} + 1} = \\frac{(1+x)^{2/3}+(1+x)^{1/3}+ 1}{(1+x)^{1/2} + 1} = \\frac{1+1+1}{1+1} = 3/2 = 1.5$$"
   ]
  },
  {
   "cell_type": "markdown",
   "metadata": {},
   "source": [
    "4.3 $$\\lim_{x\\to\\infty}(\\frac{x+3}{x})^{4x+1} = (1 + \\frac{3}{x})^{x/3*3/x*(4x+1)} = e^{\\lim_{x\\to\\infty}12+3/x} = e^{12}$$"
   ]
  },
  {
   "cell_type": "markdown",
   "metadata": {},
   "source": [
    "5.1 $$\\lim_{x\\to 0}\\frac{sin(2x)}{4x} = 1/2$$"
   ]
  },
  {
   "cell_type": "markdown",
   "metadata": {},
   "source": [
    "5.2 $$\\lim_{x\\to 0}\\frac{x}{sin(x)} = 1$$"
   ]
  },
  {
   "cell_type": "markdown",
   "metadata": {},
   "source": [
    "5.3 $$\\lim_{x\\to 0}\\frac{x}{arcsin(x)} = \\frac{sin(arcsin(x))}{arcsin(x)} = 1$$"
   ]
  },
  {
   "cell_type": "markdown",
   "metadata": {},
   "source": [
    "5.4 $$\\lim_{x\\to\\infty}(\\frac{4x+3}{4x-3})^{6x} = e^{\\lim_{x\\to\\infty}(\\frac{4x+3}{4x-3} - 1)*6x} = e^{\\lim_{x\\to\\infty}(\\frac{6}{4x-3})*6x} = e^{\\lim_{x\\to\\infty}\\frac{36x}{4x-3}} = e^{\\lim_{x\\to\\infty}\\frac{36}{4-3/x}} = e^{36/4} = e^9$$"
   ]
  },
  {
   "cell_type": "markdown",
   "metadata": {},
   "source": [
    "5.6 $$\\lim_{x\\to\\infty}\\frac{sin(x) + ln(x)}{x} = \\lim_{x\\to\\infty}\\frac{sin(x)}{x} + \\lim_{x\\to\\infty}\\frac{ln(x)}{x} = 0+0 = 0$$"
   ]
  },
  {
   "cell_type": "markdown",
   "metadata": {},
   "source": [
    "Максимальное значение синуса = 1, таким образом, первые предел будет стремится к 0. Второй предел тоже стремиться к 0, так как прирост натурального логарифма значительно меньше прироста x (например, если x = 100000, то ln(х)=11,51)."
   ]
  }
 ],
 "metadata": {
  "kernelspec": {
   "display_name": "Python 3",
   "language": "python",
   "name": "python3"
  },
  "language_info": {
   "codemirror_mode": {
    "name": "ipython",
    "version": 3
   },
   "file_extension": ".py",
   "mimetype": "text/x-python",
   "name": "python",
   "nbconvert_exporter": "python",
   "pygments_lexer": "ipython3",
   "version": "3.7.6"
  }
 },
 "nbformat": 4,
 "nbformat_minor": 4
}
