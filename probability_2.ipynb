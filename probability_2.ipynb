{
 "cells": [
  {
   "cell_type": "code",
   "execution_count": 238,
   "metadata": {},
   "outputs": [],
   "source": [
    "import numpy as np\n",
    "\n",
    "def combinations(n, k):\n",
    "    return np.math.factorial(n) // (np.math.factorial(k) * np.math.factorial(n - k))\n",
    "\n",
    "def bernoulli(n, k, p):\n",
    "    return combinations(n,k)*p**k*(1-p)**(n-k)\n",
    "\n",
    "def poisson(k, lambda_):\n",
    "    return (lambda_ ** k) * (np.exp(-lambda_)) / np.math.factorial(k)"
   ]
  },
  {
   "cell_type": "markdown",
   "metadata": {},
   "source": [
    "1. Контрольная работа состоит из пяти вопросов. На каждый вопрос приведено четыре варианта ответа, один из которых правильный. Составьте закон распределения числа правильных ответов при простом угадывании. Найдите M(X), D(X)."
   ]
  },
  {
   "cell_type": "code",
   "execution_count": 249,
   "metadata": {
    "scrolled": true
   },
   "outputs": [
    {
     "name": "stdout",
     "output_type": "stream",
     "text": [
      "P_0: 0.2373046875\n",
      "P_1: 0.3955078125\n",
      "P_2: 0.263671875\n",
      "P_3: 0.087890625\n",
      "P_4: 0.0146484375\n",
      "P_5: 0.0009765625\n"
     ]
    }
   ],
   "source": [
    "p=1/4\n",
    "n=5\n",
    "for k in range(6):\n",
    "    P = bernoulli(n, k, p)\n",
    "    print(f'P_{k}: {P}')"
   ]
  },
  {
   "cell_type": "code",
   "execution_count": 229,
   "metadata": {},
   "outputs": [
    {
     "data": {
      "text/plain": [
       "1.25"
      ]
     },
     "execution_count": 229,
     "metadata": {},
     "output_type": "execute_result"
    }
   ],
   "source": [
    "M = n * p\n",
    "M"
   ]
  },
  {
   "cell_type": "code",
   "execution_count": 230,
   "metadata": {},
   "outputs": [
    {
     "data": {
      "text/plain": [
       "0.9375"
      ]
     },
     "execution_count": 230,
     "metadata": {},
     "output_type": "execute_result"
    }
   ],
   "source": [
    "D = n * p * (1 - p)\n",
    "D"
   ]
  },
  {
   "cell_type": "markdown",
   "metadata": {},
   "source": [
    "2. Пользователь получает в среднем 10 писем со спамом на свой почтовый ящик за сутки. Найти число N, такое, что с вероятностью 0.95 пользователь получит не более N писем со спамом за текущий день."
   ]
  },
  {
   "cell_type": "code",
   "execution_count": 231,
   "metadata": {
    "scrolled": true
   },
   "outputs": [
    {
     "name": "stdout",
     "output_type": "stream",
     "text": [
      "P_10: 0.45792971447185227\n",
      "P_11: 0.5830397501929856\n",
      "P_12: 0.6967761463031068\n",
      "P_13: 0.7915564763948745\n",
      "P_14: 0.8644644226193111\n",
      "P_15: 0.9165415270653373\n",
      "P_16: 0.9512595966960214\n",
      "P_17: 0.972958390215199\n",
      "P_18: 0.9857223864029505\n",
      "P_19: 0.9928134953961458\n"
     ]
    }
   ],
   "source": [
    "for N in range(10,20):\n",
    "    P = sum(poisson(k=i, lambda_=10) for i in range(N))\n",
    "    print(f'P_{N}: {P}')"
   ]
  },
  {
   "cell_type": "code",
   "execution_count": 232,
   "metadata": {},
   "outputs": [],
   "source": [
    "N = 16"
   ]
  },
  {
   "cell_type": "markdown",
   "metadata": {},
   "source": [
    "3. Производятся выстрелы по мишени. Вероятность попадания в мишень при одном выстреле равна 0.01. Сколько выстрелов нужно сделать, чтобы быть уверенным с вероятностью 0.9, что хотя бы 6 раз будет совершено попадание? Подсказка: 1) \"Вероятность попасть k раз при n выстрелах\" - на какое распределение это похоже? 2) А если нам нужна вероятность P(X >= k), а не P(X = k)? 3) Здесь предстоит немножко покодить."
   ]
  },
  {
   "cell_type": "code",
   "execution_count": 250,
   "metadata": {
    "scrolled": true
   },
   "outputs": [
    {
     "name": "stdout",
     "output_type": "stream",
     "text": [
      "Необходимо сделать 927 выстрелов,\n",
      "чтобы с вероятностью 0.9003627121531355\n",
      "попасть в мишень хотя бы 6 раз.\n"
     ]
    }
   ],
   "source": [
    "p=0.01\n",
    "n=5\n",
    "P=0\n",
    "\n",
    "while P < 0.9:\n",
    "    P = 1-sum(bernoulli(n, k, p) for k in range(6))\n",
    "    n+=1\n",
    "\n",
    "print(f'Необходимо сделать {n} выстрелов,\\nчтобы с вероятностью {P}\\nпопасть в мишень хотя бы 6 раз.')"
   ]
  }
 ],
 "metadata": {
  "kernelspec": {
   "display_name": "Python 3",
   "language": "python",
   "name": "python3"
  },
  "language_info": {
   "codemirror_mode": {
    "name": "ipython",
    "version": 3
   },
   "file_extension": ".py",
   "mimetype": "text/x-python",
   "name": "python",
   "nbconvert_exporter": "python",
   "pygments_lexer": "ipython3",
   "version": "3.7.6"
  }
 },
 "nbformat": 4,
 "nbformat_minor": 4
}
