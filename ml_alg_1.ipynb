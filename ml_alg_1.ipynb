{
 "cells": [
  {
   "cell_type": "code",
   "execution_count": 1,
   "metadata": {},
   "outputs": [],
   "source": [
    "import numpy as np\n",
    "\n",
    "from sklearn.metrics import mean_squared_error as mse"
   ]
  },
  {
   "cell_type": "markdown",
   "metadata": {},
   "source": [
    "1. Подбор скорости обучения (alpha) и количеста итераций:"
   ]
  },
  {
   "cell_type": "code",
   "execution_count": 63,
   "metadata": {},
   "outputs": [],
   "source": [
    "X = np.array([[1, 1, 1, 1, 1, 1, 1, 1, 1, 1],\n",
    "              [1, 1, 2, 1, 3, 0, 5, 10, 1, 2]])\n",
    "\n",
    "y = [45, 55, 50, 59, 65, 35, 75, 80, 50, 60]\n",
    "\n",
    "n = X.shape[1]\n",
    "accuracy = 0.01\n",
    "alpha_list = [0.1, 0.01, 0.001]"
   ]
  },
  {
   "cell_type": "code",
   "execution_count": 69,
   "metadata": {},
   "outputs": [
    {
     "name": "stdout",
     "output_type": "stream",
     "text": [
      "1 [12.02 34.5 ] 9346.1224\n",
      "369 [46.30016541  4.08281105] 46.40446490754569\n",
      "2588 [44.24571609  4.46218083] 50.73237380391926\n"
     ]
    }
   ],
   "source": [
    "for alpha in alpha_list:\n",
    "    W = np.array([1, 0.5])\n",
    "    distance = 1\n",
    "    i = 0\n",
    "    \n",
    "    y_pred = np.dot(W, X)\n",
    "    err0 = mse(y, y_pred)\n",
    "    \n",
    "    while distance > accuracy and distance > 0:\n",
    "        i+=1\n",
    "        W -= (alpha * (1/n * 2 * np.dot(X,(y_pred - y))))\n",
    "        y_pred = np.dot(W, X)\n",
    "        err1 = mse(y, y_pred)\n",
    "        distance = err0 - err1\n",
    "        err0 = err1\n",
    "        \n",
    "    print(i,W,err1)"
   ]
  },
  {
   "cell_type": "markdown",
   "metadata": {},
   "source": [
    "Наилучшая скорость обучения 0.01, так как при ней за наименьшее количество итераций (369) достигается минимальная ошибка (46,4) с точностью до 0.01. "
   ]
  },
  {
   "cell_type": "markdown",
   "metadata": {},
   "source": [
    "*2. В этом коде мы избавляемся от итераций по весам, но тут есть ошибка, исправьте ее:"
   ]
  },
  {
   "cell_type": "code",
   "execution_count": 18,
   "metadata": {},
   "outputs": [
    {
     "name": "stdout",
     "output_type": "stream",
     "text": [
      "0 [13.23083108 10.18305876] 667.560337269993\n",
      "100 [13.58283629 10.11968975] 654.7658933898567\n",
      "200 [13.93112726 10.05658129] 642.234896574031\n",
      "300 [14.27576142  9.99383363] 629.96187344066\n",
      "400 [14.61679067  9.93151919] 617.9414864469112\n",
      "500 [14.95426267  9.86968976] 606.1685205795002\n",
      "600 [15.28822192  9.80838193] 594.6378750864831\n",
      "700 [15.61871044  9.74762106] 583.3445579848469\n",
      "800 [15.94576831  9.68742425] 572.2836821052715\n",
      "900 [16.26943415  9.62780246] 561.4504619966559\n"
     ]
    }
   ],
   "source": [
    "for i in range(1000):\n",
    "    y_pred = np.dot(W, X)\n",
    "    err = mse(y, y_pred)\n",
    "    '''for ii in range(W.shape[0]):\n",
    "    W[ii] -= alpha * (1/n * 2 * np.sum(X[ii] * (y_pred - y)))'''\n",
    "    W -= (alpha * (1/n * 2 * np.dot(X,(y_pred - y)))) #np.dot вместо np.sum\n",
    "    if i % 100 == 0:\n",
    "        print(i, W, err)"
   ]
  }
 ],
 "metadata": {
  "kernelspec": {
   "display_name": "Python 3",
   "language": "python",
   "name": "python3"
  },
  "language_info": {
   "codemirror_mode": {
    "name": "ipython",
    "version": 3
   },
   "file_extension": ".py",
   "mimetype": "text/x-python",
   "name": "python",
   "nbconvert_exporter": "python",
   "pygments_lexer": "ipython3",
   "version": "3.7.6"
  }
 },
 "nbformat": 4,
 "nbformat_minor": 4
}
