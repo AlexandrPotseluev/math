{
 "cells": [
  {
   "cell_type": "markdown",
   "metadata": {},
   "source": [
    "1. Область определения: $$z = \\sqrt{1-x^3} + ln(y^2-1)$$"
   ]
  },
  {
   "cell_type": "markdown",
   "metadata": {},
   "source": [
    "Под корнем не может быть отрицательного числа, и подлогаривменное выражение не равно 0 и положительное. Соответственно область определения x от минус бесконечности до 1 включительно $[-\\infty;1]$, у от минус бесконечности до -1 не включительно и от 1 не включительно до плюс бесконечности $[-\\infty;-1) (1;+\\infty]$"
   ]
  },
  {
   "cell_type": "markdown",
   "metadata": {},
   "source": [
    "2. Производные 1-го порядка: $$z = \\left( 1+\\frac{ln(x)}{ln(y)} \\right)^3$$"
   ]
  },
  {
   "cell_type": "markdown",
   "metadata": {},
   "source": [
    "$$z_x' = 3 * \\left( 1+\\frac{ln(x)}{ln(y)} \\right)^2 * \\frac{1}{x*ln(y)}$$"
   ]
  },
  {
   "cell_type": "markdown",
   "metadata": {},
   "source": [
    "$$z_y' = 3 * \\left( 1+\\frac{ln(x)}{ln(y)} \\right)^2 * y * ln(x)$$"
   ]
  },
  {
   "cell_type": "markdown",
   "metadata": {},
   "source": [
    "3. Найти полный дифференциал функции в точке (1;1) $$ z = \\sqrt{2xy + cos\\frac{x}{y}} = \\left(2xy + cos(x*y^{-1})\\right)^{\\frac{1}{2}}$$"
   ]
  },
  {
   "cell_type": "markdown",
   "metadata": {},
   "source": [
    "$$z_x' = \\frac{1}{2*\\sqrt{2xy + cos\\frac{x}{y}}}*(2y - sin\\frac{x}{y})*\\frac{1}{y} = \\frac{2 - sin(1)}{2\\sqrt{2 + cos(1)}}$$"
   ]
  },
  {
   "cell_type": "markdown",
   "metadata": {},
   "source": [
    "$$z_y' = \\frac{1}{2*\\sqrt{2xy + cos\\frac{x}{y}}}*(2x - sin\\frac{x}{y})*(-\\frac{1}{y^2}) = - \\frac{2 - sin(1)}{2\\sqrt{2 + cos(1)}}$$"
   ]
  },
  {
   "cell_type": "markdown",
   "metadata": {},
   "source": [
    "$$z' = z_x' + z_y' = 0$$"
   ]
  },
  {
   "cell_type": "markdown",
   "metadata": {},
   "source": [
    "4.  Исследовать на экстремум функцию $$z=x^2+xy+y^2-6x-9y$$"
   ]
  },
  {
   "cell_type": "markdown",
   "metadata": {},
   "source": [
    "$$(1)z_x' = 2x+y-6 = 0$$\n",
    "$$(2)z_y' = 2y+x-9 = 0$$"
   ]
  },
  {
   "cell_type": "markdown",
   "metadata": {},
   "source": [
    "$$z_{xx}'' = z_{yy}'' = 2$$\n",
    "$$z_{xy}'' = z_{yx}'' = 1$$"
   ]
  },
  {
   "cell_type": "markdown",
   "metadata": {},
   "source": [
    "\\begin{bmatrix}\n",
    "    2&1\\\\\n",
    "    1&2\\\\\n",
    "\\end{bmatrix}"
   ]
  },
  {
   "cell_type": "markdown",
   "metadata": {},
   "source": [
    "Определитель матрицы ($2*2 - 1 = 3$) больше 0, значит достигается экстремум функции. $z_{xx}''$ больше 0, значит этот экструмум является минимумом. Теперь найдем х и у, при которых первые производные (уравнения 1 и 2) равны 0."
   ]
  },
  {
   "cell_type": "markdown",
   "metadata": {},
   "source": [
    "$$y = 6 - 2x$$\n",
    "$$2*(6 - 2x) + x - 9 = 12 - 4x + x -9 = 3 - 3x = 0$$\n",
    "$$3x = 3$$\n",
    "$$x = 1$$\n",
    "$$y = 4$$"
   ]
  },
  {
   "cell_type": "markdown",
   "metadata": {},
   "source": [
    "То есть в точке (1;4) функция z достигает своего минимума."
   ]
  }
 ],
 "metadata": {
  "kernelspec": {
   "display_name": "Python 3",
   "language": "python",
   "name": "python3"
  },
  "language_info": {
   "codemirror_mode": {
    "name": "ipython",
    "version": 3
   },
   "file_extension": ".py",
   "mimetype": "text/x-python",
   "name": "python",
   "nbconvert_exporter": "python",
   "pygments_lexer": "ipython3",
   "version": "3.7.6"
  }
 },
 "nbformat": 4,
 "nbformat_minor": 4
}
