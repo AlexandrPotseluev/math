{
 "cells": [
  {
   "cell_type": "code",
   "execution_count": 59,
   "metadata": {},
   "outputs": [],
   "source": [
    "import numpy as np\n",
    "from scipy import stats"
   ]
  },
  {
   "cell_type": "markdown",
   "metadata": {},
   "source": [
    "1. Объясняемая переменная y зависит от двух категориальных факторов A и B, причём фактор A имеет 3 уровня, а фактор B - 4 уровня. Результаты наблюдений приведены в таблице:"
   ]
  },
  {
   "cell_type": "code",
   "execution_count": 57,
   "metadata": {},
   "outputs": [
    {
     "data": {
      "text/plain": [
       "(3, 4, 12)"
      ]
     },
     "execution_count": 57,
     "metadata": {},
     "output_type": "execute_result"
    }
   ],
   "source": [
    "y = np.array([[2.68, 3.29, 2.88, 4.45],\n",
    "     [4.12, 4.96, 5.09, 5.22],\n",
    "     [5.52, 4.50, 5.42, 5.29]])\n",
    "\n",
    "k = y.shape[1]\n",
    "m = y.shape[0]\n",
    "n = m * k\n",
    "\n",
    "m, k, n"
   ]
  },
  {
   "cell_type": "code",
   "execution_count": 41,
   "metadata": {},
   "outputs": [],
   "source": [
    "y_mean = y.mean()"
   ]
  },
  {
   "cell_type": "code",
   "execution_count": 52,
   "metadata": {},
   "outputs": [
    {
     "data": {
      "text/plain": [
       "(7.8407166666666654, 1.338166666666669, 1.9298833333333332)"
      ]
     },
     "execution_count": 52,
     "metadata": {},
     "output_type": "execute_result"
    }
   ],
   "source": [
    "SS_a = k*sum((y.mean(axis=1) - y_mean)**2)\n",
    "SS_b = m*sum((y.mean(axis=0) - y_mean)**2)\n",
    "SS_w = sum(sum((y - y.mean(axis=1, keepdims=True) - y.mean(axis=0, keepdims=True) + y_mean)**2))\n",
    "\n",
    "SS_a, SS_b, SS_w"
   ]
  },
  {
   "cell_type": "code",
   "execution_count": 60,
   "metadata": {},
   "outputs": [],
   "source": [
    "sigma2_a = SS_a/(m-1)\n",
    "sigma2_b = SS_b/(k-1)\n",
    "sigma2_w = SS_w/((k-1)*(m-1))"
   ]
  },
  {
   "cell_type": "code",
   "execution_count": 62,
   "metadata": {},
   "outputs": [
    {
     "data": {
      "text/plain": [
       "(12.188379262995172, 1.3867850388192748)"
      ]
     },
     "execution_count": 62,
     "metadata": {},
     "output_type": "execute_result"
    }
   ],
   "source": [
    "alpha = 0.05\n",
    "\n",
    "F_a = sigma2_a / sigma2_w\n",
    "F_b = sigma2_b / sigma2_w\n",
    "\n",
    "F_a, F_b"
   ]
  },
  {
   "cell_type": "code",
   "execution_count": 64,
   "metadata": {},
   "outputs": [
    {
     "data": {
      "text/plain": [
       "(4.25649472909375, 4.06618055135116)"
      ]
     },
     "execution_count": 64,
     "metadata": {},
     "output_type": "execute_result"
    }
   ],
   "source": [
    "k1_a = m - 1\n",
    "k2_a = n - m\n",
    "\n",
    "k1_b = k - 1\n",
    "k2_b = n - k\n",
    "\n",
    "t_a = stats.f.ppf(1 - alpha, k1_a, k2_a)\n",
    "t_b = stats.f.ppf(1 - alpha, k1_b, k2_b)\n",
    "\n",
    "t_a, t_b"
   ]
  },
  {
   "cell_type": "code",
   "execution_count": 65,
   "metadata": {},
   "outputs": [
    {
     "data": {
      "text/plain": [
       "(True, False)"
      ]
     },
     "execution_count": 65,
     "metadata": {},
     "output_type": "execute_result"
    }
   ],
   "source": [
    "F_a > t_a, F_b > t_b"
   ]
  },
  {
   "cell_type": "markdown",
   "metadata": {},
   "source": [
    "__Фактор А - значимый__, фактор В - нет."
   ]
  },
  {
   "cell_type": "markdown",
   "metadata": {},
   "source": [
    "2. В мешке лежат три кубика: 6-гранный, 12-гранный, 20-гранный. Мы достали один кубик на удачу, подкинули его, и на нем выпало число N. Какова вероятность того, что если мы достанем еще один кубик из оставшихся в мешке и подкинем его, на нем выпадет меньше N?\n",
    " - N = 12\n",
    " - N = 4"
   ]
  },
  {
   "cell_type": "markdown",
   "metadata": {},
   "source": [
    "Вероятность достать кубик так, чтобы на нем выпало нужное число:"
   ]
  },
  {
   "cell_type": "code",
   "execution_count": 12,
   "metadata": {},
   "outputs": [
    {
     "data": {
      "text/plain": [
       "(0.0444, 0.1)"
      ]
     },
     "execution_count": 12,
     "metadata": {},
     "output_type": "execute_result"
    }
   ],
   "source": [
    "P = 1/3\n",
    "P12 = P*(0 + 1/12 + 1/20)\n",
    "P4 = P*(1/6 + 1/12 + 1/20)\n",
    "\n",
    "round(P12, 4), round(P4, 4)"
   ]
  },
  {
   "cell_type": "markdown",
   "metadata": {},
   "source": [
    " - Н1: достали 6-гранный кубик, в мешке остались 12-гранный и 20-гранный\n",
    " - Н2: достали 12-гранный кубик, в мешке остались 6-гранный и 20-гранный\n",
    " - Н3: достали 20-гранный кубик, в мешке остались 6-гранный и 12-гранный"
   ]
  },
  {
   "cell_type": "code",
   "execution_count": 10,
   "metadata": {},
   "outputs": [
    {
     "data": {
      "text/plain": [
       "0.07703703703703703"
      ]
     },
     "execution_count": 10,
     "metadata": {},
     "output_type": "execute_result"
    }
   ],
   "source": [
    "P_A = P12 * (0 + 1/2 * (1 + 11/20) + 1/2 * (1 + 11/12))\n",
    "P_A"
   ]
  },
  {
   "cell_type": "code",
   "execution_count": 11,
   "metadata": {},
   "outputs": [
    {
     "data": {
      "text/plain": [
       "0.09"
      ]
     },
     "execution_count": 11,
     "metadata": {},
     "output_type": "execute_result"
    }
   ],
   "source": [
    "P_A = P4 * (1/2 * (3/12 + 3/20) + 1/2 * (3/6 + 3/20) + 1/2 * (3/6 + 3/12))\n",
    "P_A"
   ]
  }
 ],
 "metadata": {
  "kernelspec": {
   "display_name": "Python 3",
   "language": "python",
   "name": "python3"
  },
  "language_info": {
   "codemirror_mode": {
    "name": "ipython",
    "version": 3
   },
   "file_extension": ".py",
   "mimetype": "text/x-python",
   "name": "python",
   "nbconvert_exporter": "python",
   "pygments_lexer": "ipython3",
   "version": "3.7.6"
  }
 },
 "nbformat": 4,
 "nbformat_minor": 4
}
