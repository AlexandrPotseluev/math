{
 "cells": [
  {
   "cell_type": "code",
   "execution_count": 1,
   "metadata": {},
   "outputs": [],
   "source": [
    "import pandas as pd\n",
    "import seaborn as sns\n",
    "import matplotlib.pyplot as plt\n",
    "import numpy as np\n",
    "\n",
    "from sklearn.tree import DecisionTreeRegressor\n",
    "from sklearn import model_selection\n",
    "from sklearn.datasets import load_diabetes\n",
    "from tqdm import tqdm"
   ]
  },
  {
   "cell_type": "code",
   "execution_count": 2,
   "metadata": {},
   "outputs": [
    {
     "data": {
      "text/plain": [
       "((331, 10), (111, 10), (331,), (111,))"
      ]
     },
     "execution_count": 2,
     "metadata": {},
     "output_type": "execute_result"
    }
   ],
   "source": [
    "X, y = load_diabetes(return_X_y=True)\n",
    "X_train, X_test, y_train, y_test = model_selection.train_test_split(X, y, test_size=0.25)\n",
    "X_train.shape, X_test.shape, y_train.shape, y_test.shape"
   ]
  },
  {
   "cell_type": "code",
   "execution_count": 3,
   "metadata": {},
   "outputs": [],
   "source": [
    "def gb_predict(X, trees_list, coef_list, eta):\n",
    "    \n",
    "    return np.array([sum([eta * coef * alg.predict([x])[0] for alg, coef in zip(trees_list, coef_list)]) for x in X])\n"
   ]
  },
  {
   "cell_type": "code",
   "execution_count": 4,
   "metadata": {},
   "outputs": [],
   "source": [
    "def mse_err(y_real, prediction):\n",
    "    return (sum((y_real - prediction)**2)) / len(y_real)"
   ]
  },
  {
   "cell_type": "code",
   "execution_count": 5,
   "metadata": {},
   "outputs": [],
   "source": [
    "def bias(y, z):\n",
    "    return (y - z)"
   ]
  },
  {
   "cell_type": "code",
   "execution_count": 6,
   "metadata": {},
   "outputs": [],
   "source": [
    "def gb_fit(n_trees, max_depth, X_train, X_test, y_train, y_test, coefs, eta):\n",
    "    \n",
    "    # Деревья будем записывать в список\n",
    "    trees = []\n",
    "    \n",
    "    # Будем записывать ошибки на обучающей и тестовой выборке на каждой итерации в список\n",
    "    train_errors = []\n",
    "    test_errors = []\n",
    "    \n",
    "    for i in tqdm(range(n_trees)):\n",
    "        tree = DecisionTreeRegressor(max_depth=max_depth, random_state=42)\n",
    "\n",
    "        # инициализируем бустинг начальным алгоритмом, возвращающим ноль, \n",
    "        # поэтому первый алгоритм просто обучаем на выборке и добавляем в список\n",
    "        if len(trees) == 0:\n",
    "            # обучаем первое дерево на обучающей выборке\n",
    "            tree.fit(X_train, y_train)\n",
    "            \n",
    "            train_errors.append(mse_err(y_train, gb_predict(X_train, trees, coefs, eta)))\n",
    "            test_errors.append(mse_err(y_test, gb_predict(X_test, trees, coefs, eta)))\n",
    "        else:\n",
    "            # Получим ответы на текущей композиции\n",
    "            target = gb_predict(X_train, trees, coefs, eta)\n",
    "            \n",
    "            # алгоритмы начиная со второго обучаем на сдвиг\n",
    "            tree.fit(X_train, bias(y_train, target))\n",
    "            \n",
    "            train_errors.append(mse_err(y_train, gb_predict(X_train, trees, coefs, eta)))\n",
    "            test_errors.append(mse_err(y_test, gb_predict(X_test, trees, coefs, eta)))\n",
    "\n",
    "        trees.append(tree)\n",
    "        \n",
    "    return trees, train_errors, test_errors"
   ]
  },
  {
   "cell_type": "code",
   "execution_count": 65,
   "metadata": {
    "scrolled": false
   },
   "outputs": [
    {
     "name": "stderr",
     "output_type": "stream",
     "text": [
      "100%|██████████| 1/1 [00:00<00:00, 229.47it/s]\n",
      "100%|██████████| 10/10 [00:03<00:00,  2.86it/s]\n",
      "100%|██████████| 50/50 [01:27<00:00,  1.76s/it]\n",
      "100%|██████████| 1/1 [00:00<00:00, 190.73it/s]\n",
      "100%|██████████| 10/10 [00:03<00:00,  3.24it/s]\n",
      "100%|██████████| 50/50 [01:26<00:00,  1.72s/it]\n",
      "100%|██████████| 1/1 [00:00<00:00, 189.90it/s]\n",
      "100%|██████████| 10/10 [00:03<00:00,  2.79it/s]\n",
      "100%|██████████| 50/50 [01:21<00:00,  1.62s/it]\n"
     ]
    }
   ],
   "source": [
    "params_grid = {\n",
    "    'max_depth': [1, 3, 5],\n",
    "    'n_trees': [1, 10, 50]\n",
    "}\n",
    "err_history_params = []\n",
    "\n",
    "for max_depth in params_grid['max_depth']:\n",
    "    err_by_max_depth = []\n",
    "    \n",
    "    for n_trees in params_grid['n_trees']:\n",
    "        coefs = [1] * n_trees\n",
    "        trees, train_errors, test_errors = gb_fit(n_trees=n_trees, \n",
    "                                                  max_depth=max_depth,\n",
    "                                                  X_train=X_train,\n",
    "                                                  X_test=X_test,\n",
    "                                                  y_train=y_train,\n",
    "                                                  y_test=y_test, \n",
    "                                                  coefs=coefs,\n",
    "                                                  eta=0.01)\n",
    "        err_by_max_depth.append(np.min(test_errors))\n",
    "    err_history_params.append(err_by_max_depth)"
   ]
  },
  {
   "cell_type": "code",
   "execution_count": 66,
   "metadata": {
    "scrolled": true
   },
   "outputs": [],
   "source": [
    "result = pd.DataFrame(\n",
    "    err_history_params,\n",
    "    index=params_grid['n_trees'],\n",
    "    columns=params_grid['max_depth'])"
   ]
  },
  {
   "cell_type": "code",
   "execution_count": 75,
   "metadata": {},
   "outputs": [
    {
     "data": {
      "text/plain": [
       "Text(51.0, 0.5, 'n_trees')"
      ]
     },
     "execution_count": 75,
     "metadata": {},
     "output_type": "execute_result"
    },
    {
     "data": {
      "image/png": "[encoded data removed]",
      "text/plain": [
       "<Figure size 576x576 with 2 Axes>"
      ]
     },
     "metadata": {
      "needs_background": "light"
     },
     "output_type": "display_data"
    }
   ],
   "source": [
    "fig, axes = plt.subplots(1,1,figsize=(8,8))\n",
    "sns.heatmap(result,\n",
    "            cmap='plasma',\n",
    "            annot=True,\n",
    "            fmt='.2g',\n",
    "            linewidths=1,\n",
    "            square=True,\n",
    "            ax=axes)\n",
    "\n",
    "axes.set_xlabel('max_depth', fontsize=15)\n",
    "axes.set_ylabel('n_trees', fontsize=15)"
   ]
  },
  {
   "cell_type": "markdown",
   "metadata": {},
   "source": [
    "Для этих данных и параметров обучения (eta=0.01, coef=1) чем больше глубина, тем меньше ошибка на тестовой выборке. Если глубина дерева не меняется, то количество деревьев практически не влияет на ошибку. Минимальная ошибка достигается при глубине 5 и одном дереве."
   ]
  }
 ],
 "metadata": {
  "kernelspec": {
   "display_name": "Python 3",
   "language": "python",
   "name": "python3"
  },
  "language_info": {
   "codemirror_mode": {
    "name": "ipython",
    "version": 3
   },
   "file_extension": ".py",
   "mimetype": "text/x-python",
   "name": "python",
   "nbconvert_exporter": "python",
   "pygments_lexer": "ipython3",
   "version": "3.7.6"
  }
 },
 "nbformat": 4,
 "nbformat_minor": 4
}
