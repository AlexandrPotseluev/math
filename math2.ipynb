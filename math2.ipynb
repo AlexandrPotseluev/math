{
 "cells": [
  {
   "cell_type": "code",
   "execution_count": 16,
   "metadata": {},
   "outputs": [
    {
     "name": "stderr",
     "output_type": "stream",
     "text": [
      "UsageError: Line magic function `%%latex` not found.\n"
     ]
    }
   ],
   "source": [
    "import numpy as np\n",
    "import pandas as pd\n",
    "import matplotlib.pyplot as plt\n",
    "\n",
    "%matplotlib inline"
   ]
  },
  {
   "cell_type": "markdown",
   "metadata": {},
   "source": [
    "**Задание 1**"
   ]
  },
  {
   "cell_type": "markdown",
   "metadata": {},
   "source": [
    "Напишите уравнение параболы, проходящей через три точки (x,y):\n",
    "(1,2), (3,10), (5,1)"
   ]
  },
  {
   "cell_type": "markdown",
   "metadata": {},
   "source": [
    "$$ax^2 + bx + c = y$$"
   ]
  },
  {
   "cell_type": "markdown",
   "metadata": {},
   "source": [
    "Строим систему из 3х уравнений с точками х и значениями у и решаем ее:"
   ]
  },
  {
   "cell_type": "markdown",
   "metadata": {},
   "source": [
    "$$ a + b + c = 2 (1)$$\n",
    "$$ 9a + 3b + c = 10 (2)$$\n",
    "$$ 25a + 5b + c = 1 (3) $$"
   ]
  },
  {
   "cell_type": "markdown",
   "metadata": {},
   "source": [
    "Вычтем из второго уравнения первое, а из третьего - второе и получим:\n",
    "$$ 8a + 2b = 8 $$\n",
    "$$ 16a + 2b = -9 $$"
   ]
  },
  {
   "cell_type": "markdown",
   "metadata": {},
   "source": [
    "Опять посчитаем разницу, но уже из получившихся 2х уровнений и получим:\n",
    "$$ 8a = -17 $$"
   ]
  },
  {
   "cell_type": "markdown",
   "metadata": {},
   "source": [
    "a = -17/8,\n",
    "b = 25/2,\n",
    "c = -67/8"
   ]
  },
  {
   "cell_type": "markdown",
   "metadata": {},
   "source": [
    "Проверка:"
   ]
  },
  {
   "cell_type": "code",
   "execution_count": 6,
   "metadata": {
    "scrolled": true
   },
   "outputs": [
    {
     "data": {
      "text/plain": [
       "2.0"
      ]
     },
     "execution_count": 6,
     "metadata": {},
     "output_type": "execute_result"
    }
   ],
   "source": [
    "(25*4-17-67)/8"
   ]
  },
  {
   "cell_type": "markdown",
   "metadata": {},
   "source": [
    "**Задание 2**"
   ]
  },
  {
   "cell_type": "markdown",
   "metadata": {},
   "source": [
    "Известно, что свежий огурец на 99% состоит из воды. Месяц назад взвесили мешок со свежими огурцами. Получилось, что огурцов ровно 100 кг. Мешок убрали, а через месяц снова взвесили. Огурцы за это время усохли, и теперь вода составляет уже только 98% их веса. Сколько теперь (в кг) весят огурцы?"
   ]
  },
  {
   "cell_type": "markdown",
   "metadata": {},
   "source": [
    "Решение:"
   ]
  },
  {
   "cell_type": "markdown",
   "metadata": {},
   "source": [
    "Вес сухого вещшества = 1 кг при его доле в весе 1%. Со временем непосредсвтенно вес сухого вещества в кг не меняется, но увеличивается его доля в массе продукта. Таким образом, через месяц вес сухого вещества в огурцах остался прежним = 1 кг, однако теперь он уже стал составлять 2% от общего веса огурцов. То есть получется пропорция:"
   ]
  },
  {
   "cell_type": "markdown",
   "metadata": {},
   "source": [
    "- 1 кг - 2%\n",
    "- х кг - 100%"
   ]
  },
  {
   "cell_type": "markdown",
   "metadata": {},
   "source": [
    "x = 50 кг"
   ]
  },
  {
   "cell_type": "markdown",
   "metadata": {},
   "source": [
    "**Задание 3**"
   ]
  },
  {
   "cell_type": "markdown",
   "metadata": {},
   "source": [
    "1. $$2^x = 256$$\n",
    "$$x = log_2 256 = log_2 2^8$$\n",
    "$$x = 8$$"
   ]
  },
  {
   "cell_type": "markdown",
   "metadata": {},
   "source": [
    "2. $$2^x = 300$$\n",
    "$$log_2 300$$"
   ]
  },
  {
   "cell_type": "markdown",
   "metadata": {},
   "source": [
    "3. $$log_8 2^{8x - 4} = 4$$\n",
    "$$(8x-4)/3 * log_2 2 = 4$$\n",
    "$$8x-4 = 12$$\n",
    "$$x = 8$$"
   ]
  },
  {
   "cell_type": "markdown",
   "metadata": {},
   "source": [
    "4. $3^{log_9 (5x-5)} = 5$\n",
    "\n",
    "$3^{1/2 * log_3 5(x-1)} = 5$\n",
    "\n",
    "$3^{2*1/2 * log_3 5(x-1)} = 25$\n",
    "\n",
    "$3^{log_3 5(x-1)} = 25$\n",
    "\n",
    "$5(x-1) = 25$\n",
    "\n",
    "$x = 6$"
   ]
  },
  {
   "cell_type": "markdown",
   "metadata": {},
   "source": [
    "5. $x^{log_3x +1} = 9$\n",
    "\n",
    "$({log_3 x} +1)* log_3 x = log_3 9$\n",
    "\n",
    "$log_3 x = a$\n",
    "\n",
    "$a^2 + a - 2 = 0$\n",
    "\n",
    "$a1 + a2 = -1$\n",
    "\n",
    "$a1 * a2 = -2$\n",
    "\n",
    "$a1 = -2; log_3 x1 = -2$\n",
    "\n",
    "$a2 = 1; log_3 x2 = 1$\n",
    "\n",
    "\n",
    "$x1 = 3^{-2}= 1/9$\n",
    "\n",
    "$x2 = 3^1 = 3$"
   ]
  },
  {
   "cell_type": "markdown",
   "metadata": {},
   "source": [
    "**Задание 4**"
   ]
  },
  {
   "cell_type": "markdown",
   "metadata": {},
   "source": [
    "6. $log_4 16 = log_4 4^2 = 2$"
   ]
  },
  {
   "cell_type": "markdown",
   "metadata": {},
   "source": [
    "7. $log_5 1/25 = log_5 5^{-2} = -2$"
   ]
  },
  {
   "cell_type": "markdown",
   "metadata": {},
   "source": [
    "8. $log_{25}5 = log_{5^2} 5 = 1/2$"
   ]
  },
  {
   "cell_type": "markdown",
   "metadata": {},
   "source": [
    "9. $log_3 {\\sqrt(27)} = log_3 3^{3/2} = 3/2$"
   ]
  },
  {
   "cell_type": "markdown",
   "metadata": {},
   "source": [
    "10. ${log_2 12} - {log_2 3} = log_2{12/3} = log_2 4 = 2$"
   ]
  },
  {
   "cell_type": "markdown",
   "metadata": {},
   "source": [
    "11. ${log_6 12} + {log_6 3} = log_6 36 = 2$"
   ]
  },
  {
   "cell_type": "markdown",
   "metadata": {},
   "source": [
    "12. $e^{ln 5} = 5$"
   ]
  },
  {
   "cell_type": "markdown",
   "metadata": {},
   "source": [
    "13. $\\frac{log_2 225}{log_2 15} = log_{15}{255} = log_{15}{15^2} = 2$"
   ]
  },
  {
   "cell_type": "markdown",
   "metadata": {},
   "source": [
    "14. $log_4 {32} + log_{0.1}{10} = log_{2^2}{2^5} + log_{10^-1}{10} = 5/2 - 1 = 3/2$"
   ]
  },
  {
   "cell_type": "markdown",
   "metadata": {},
   "source": [
    "15. $9^{log_3{\\sqrt(5)}} = 3^{2*log_3{\\sqrt(5)}} = 3^{log_3 5} = 5$"
   ]
  }
 ],
 "metadata": {
  "kernelspec": {
   "display_name": "Python 3",
   "language": "python",
   "name": "python3"
  },
  "language_info": {
   "codemirror_mode": {
    "name": "ipython",
    "version": 3
   },
   "file_extension": ".py",
   "mimetype": "text/x-python",
   "name": "python",
   "nbconvert_exporter": "python",
   "pygments_lexer": "ipython3",
   "version": "3.7.6"
  }
 },
 "nbformat": 4,
 "nbformat_minor": 4
}
