{
 "cells": [
  {
   "cell_type": "code",
   "execution_count": 1,
   "metadata": {},
   "outputs": [],
   "source": [
    "import numpy as np\n",
    "import matplotlib.pyplot as plt"
   ]
  },
  {
   "cell_type": "markdown",
   "metadata": {},
   "source": [
    "1.1 $$(sin(x)*cos(x))' = sin(x)'*cos(x)+sin(x)*cos(x)' = cos^2(x)-sin^2(x) = cos2x$$"
   ]
  },
  {
   "cell_type": "markdown",
   "metadata": {},
   "source": [
    "1.2 $$(ln(2x+1)^3)' = (3*ln(2x+1))' =3 * \\frac{1}{2x+1}*2 = \\frac{6}{2x+1} = \\frac{3}{x+1/2}$$"
   ]
  },
  {
   "cell_type": "markdown",
   "metadata": {},
   "source": [
    "1.3 $$f(x)'= \\sqrt{sin^2(ln(x^3))}' = |sin(3*ln(x))|' = \\frac{sin(3*ln(x))}{|sin(3*ln(x))|}*\\frac{3}{x}$$"
   ]
  },
  {
   "cell_type": "markdown",
   "metadata": {},
   "source": [
    "1.4 $$\\frac{x^4}{ln(x)}' = \\frac{(x^4)'*ln(x) - x^4*(ln(x))'}{ln^2(x)} = \\frac{4x^3*ln(x) - x^3}{ln^2(x)} = \\frac{4x^3}{ln(x)} - \\frac{x^3}{ln^2(x)}$$"
   ]
  },
  {
   "cell_type": "markdown",
   "metadata": {},
   "source": [
    "2. $$cos(x^2+3x)' = -sin(x^2+3x)*(2x+3) = -sin(\\pi+3\\sqrt{\\pi})*(2\\sqrt{\\pi}+3) = -(sin(\\pi)*cos(3\\sqrt\\pi) + sin(3\\sqrt\\pi)*cos(\\pi))* (2\\sqrt{\\pi}+3) = - (0 -sin(3\\sqrt\\pi))*(2\\sqrt{\\pi}+3) = sin(3\\sqrt\\pi)*(2\\sqrt{\\pi}+3)$$ "
   ]
  },
  {
   "cell_type": "markdown",
   "metadata": {},
   "source": [
    "3. $$f(x) = \\frac{x^3-x^2-x-1}{1+2x+3x^2-4x^3}$$"
   ]
  },
  {
   "cell_type": "markdown",
   "metadata": {},
   "source": [
    "Пусть $u(x) = x^3-x^2-x-1$, тогда $u(x)' = 3x^2-2x-1$, при х = 0 $$u(x)=u(x)'=-1$$"
   ]
  },
  {
   "cell_type": "markdown",
   "metadata": {},
   "source": [
    "Пусть $v(x) = -4x^3 + 3x^2 + 2x + 1$, тогда $v(x)' = -12x^2 + 6x + 2$, при х = 0 $$v(x)=1$$, $$v(x)'= 2$$"
   ]
  },
  {
   "cell_type": "markdown",
   "metadata": {},
   "source": [
    "$$f(x)' = (\\frac{u(x)}{v(x)})' = \\frac{u(x)'*v(x) - u(x)*v(x)}{𝑣^2(𝑥)} = \\frac{(-1)*(1) - (-1)*2}{1^2} = 1/1 = 1$$"
   ]
  },
  {
   "cell_type": "markdown",
   "metadata": {},
   "source": [
    "4. $$f(x)'=(\\sqrt{3x}*ln(x))'=((3x)^{1/2}*ln(x))'=\\frac{ln(x)}{2\\sqrt{3x}}+\\frac{\\sqrt{3x}}{x} = \\frac{ln(1)}{2\\sqrt{3*1}}+\\frac{\\sqrt{3*1}}{1} = \\sqrt{3}$$"
   ]
  },
  {
   "cell_type": "markdown",
   "metadata": {},
   "source": [
    "$$tg\\alpha = \\sqrt{3}$$"
   ]
  },
  {
   "cell_type": "markdown",
   "metadata": {},
   "source": [
    "$$\\alpha = 60$$"
   ]
  }
 ],
 "metadata": {
  "kernelspec": {
   "display_name": "Python 3",
   "language": "python",
   "name": "python3"
  },
  "language_info": {
   "codemirror_mode": {
    "name": "ipython",
    "version": 3
   },
   "file_extension": ".py",
   "mimetype": "text/x-python",
   "name": "python",
   "nbconvert_exporter": "python",
   "pygments_lexer": "ipython3",
   "version": "3.7.6"
  }
 },
 "nbformat": 4,
 "nbformat_minor": 4
}
