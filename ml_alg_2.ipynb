{
 "cells": [
  {
   "cell_type": "code",
   "execution_count": 337,
   "metadata": {},
   "outputs": [],
   "source": [
    "import random\n",
    "import numpy as np\n",
    "import pandas as pd\n",
    "import matplotlib.pyplot as plt\n",
    "\n",
    "from sklearn.datasets import make_regression\n",
    "from sklearn.linear_model import Lasso, Ridge\n",
    "from sklearn.metrics import mean_squared_error as mse\n",
    "\n",
    "\n",
    "%matplotlib inline"
   ]
  },
  {
   "cell_type": "markdown",
   "metadata": {},
   "source": [
    "1. Сгенерировать датасет при помощи sklearn.datasets.make_regression и обучить линейную модель при помощи градиентного и стохастического градиентного спуска. Нанести среднеквадратичную ошибку для обоих методов на один график, сделать выводы о разнице скорости сходимости каждого из методов."
   ]
  },
  {
   "cell_type": "code",
   "execution_count": 503,
   "metadata": {},
   "outputs": [],
   "source": [
    "X, y, coef = make_regression(n_samples=10000,\n",
    "                             n_features = 2,\n",
    "                             n_informative = 2,\n",
    "                             n_targets = 1, \n",
    "                             noise = 10,\n",
    "                             coef = True,\n",
    "                             random_state = 42)"
   ]
  },
  {
   "cell_type": "code",
   "execution_count": 504,
   "metadata": {},
   "outputs": [],
   "source": [
    "from sklearn.preprocessing import StandardScaler\n",
    "scaler = StandardScaler()\n",
    "X_scalered = scaler.fit_transform(X)"
   ]
  },
  {
   "cell_type": "code",
   "execution_count": 581,
   "metadata": {},
   "outputs": [],
   "source": [
    "def gradient_linear(X, y, alpha, max_iter, min_weight_dist):\n",
    "    W = np.random.randn(X.shape[1])\n",
    "    n = X.shape[0]    \n",
    "    distance = 1\n",
    "    iter_num = 0    \n",
    "    y_pred = X.dot(W)\n",
    "    err0 = mse(y, y_pred)\n",
    "    err_list = [err0]\n",
    "    \n",
    "    while distance > min_weight_dist and iter_num < max_iter:\n",
    "        iter_num+=1\n",
    "        l1 = np.sign(W)\n",
    "        l2 = W\n",
    "        W -= alpha * 1/n * X.T.dot(y_pred - y)\n",
    "        y_pred = X.dot(W)\n",
    "        err1 = mse(y, y_pred)\n",
    "        distance = err0 - err1\n",
    "        err0 = err1\n",
    "        err_list.append(err0)\n",
    "\n",
    "    return err_list\n",
    "    #print(f'Минимальная ошибка: {err_list[-1]}')\n",
    "    #print(f'Количество итераций: {iter_num}')  "
   ]
  },
  {
   "cell_type": "code",
   "execution_count": 582,
   "metadata": {},
   "outputs": [],
   "source": [
    "def SGDlinear(X, y, alpha, qty_in_batch, max_iter, min_weight_dist):\n",
    "    W = np.random.randn(X.shape[1])\n",
    "    n = X.shape[0]    \n",
    "    distance = 1\n",
    "    iter_num = 0    \n",
    "    err_list = []\n",
    "    \n",
    "    n_batch = n // qty_in_batch\n",
    "    if n % qty_in_batch != 0:\n",
    "        n_batch += 1\n",
    "    \n",
    "    n_batch_list = [i for i in range(n_batch)]\n",
    "    \n",
    "    while distance > min_weight_dist and iter_num < max_iter:\n",
    "        for b in n_batch_list:\n",
    "            iter_num += 1\n",
    "            start_ = qty_in_batch*b\n",
    "            end_ = qty_in_batch*(b+1)\n",
    "            \n",
    "            X_tmp = X[start_ : end_,:]\n",
    "            y_tmp = y[start_ : end_]\n",
    "            y_pred_temp = X_tmp.dot(W)\n",
    "            \n",
    "            err0 = mse(y_tmp, y_pred_temp)\n",
    "            err_list.append(err0)\n",
    "        \n",
    "            W -= alpha * 1/n * X_tmp.T.dot(y_pred_temp - y_tmp)\n",
    "            \n",
    "            y_pred_temp = X_tmp.dot(W)\n",
    "            err1 = mse(y_tmp, y_pred_temp)\n",
    "            distance = err0 - err1\n",
    "            \n",
    "    return err_list\n",
    "    #print(f'Минимальная ошибка: {err_list[-1]}')\n",
    "    #print(f'Количество итераций: {iter_num}')   "
   ]
  },
  {
   "cell_type": "code",
   "execution_count": 657,
   "metadata": {},
   "outputs": [],
   "source": [
    "def plot(err1,err2):\n",
    "    plt.plot(range(len(err1)), err1)\n",
    "    plt.plot(range(len(err2)), err2)\n",
    "    plt.title('MSE')\n",
    "    plt.xlabel('Iteration number')\n",
    "    plt.ylabel('MSE')"
   ]
  },
  {
   "cell_type": "code",
   "execution_count": 610,
   "metadata": {},
   "outputs": [],
   "source": [
    "err1 = gradient_linear(X_scalered, y, alpha=1e-2, max_iter=1e3, min_weight_dist=1e-3)\n",
    "err2 = SGDlinear(X_scalered, y, alpha=1e-2, qty_in_batch = 50, max_iter=1e8, min_weight_dist=1e-3)"
   ]
  },
  {
   "cell_type": "code",
   "execution_count": 658,
   "metadata": {
    "scrolled": true
   },
   "outputs": [
    {
     "data": {
      "image/png": "[encoded data removed]",
      "text/plain": [
       "<Figure size 432x288 with 1 Axes>"
      ]
     },
     "metadata": {
      "needs_background": "light"
     },
     "output_type": "display_data"
    }
   ],
   "source": [
    "plot(err1,err2)"
   ]
  },
  {
   "cell_type": "markdown",
   "metadata": {},
   "source": [
    "2. Модифицировать решение первого задания путем добавления 𝐿2 -регуляризации и сравнить результаты."
   ]
  },
  {
   "cell_type": "code",
   "execution_count": 584,
   "metadata": {},
   "outputs": [],
   "source": [
    "def gradient_l2(X, y, alpha, max_iter, min_weight_dist, eta):\n",
    "    W = np.random.randn(X.shape[1])\n",
    "    n = X.shape[0]    \n",
    "    distance = 1\n",
    "    iter_num = 0    \n",
    "    y_pred = X.dot(W)\n",
    "    err0 = mse(y, y_pred)\n",
    "    err_list = [err0]\n",
    "    \n",
    "    while distance > min_weight_dist and iter_num < max_iter:\n",
    "        iter_num+=1\n",
    "        W -= alpha * (1/n * X.T.dot(y_pred - y) + eta * W)\n",
    "        y_pred = X.dot(W)\n",
    "        err1 = mse(y, y_pred)\n",
    "        distance = err0 - err1\n",
    "        err0 = err1\n",
    "        err_list.append(err0)\n",
    "        \n",
    "    return err_list\n",
    "    #print(f'Минимальная ошибка: {err_list[-1]}')\n",
    "    #print(f'Количество итераций: {iter_num}') "
   ]
  },
  {
   "cell_type": "code",
   "execution_count": 585,
   "metadata": {},
   "outputs": [],
   "source": [
    "def SGDlinear_l2(X, y, alpha, qty_in_batch, max_iter, min_weight_dist, eta):\n",
    "    W = np.random.randn(X.shape[1])\n",
    "    n = X.shape[0]    \n",
    "    distance = 1\n",
    "    iter_num = 0    \n",
    "    err_list = []\n",
    "    \n",
    "    n_batch = n // qty_in_batch\n",
    "    if n % qty_in_batch != 0:\n",
    "        n_batch += 1\n",
    "    \n",
    "    n_batch_list = [i for i in range(n_batch)]\n",
    "    \n",
    "    while distance > min_weight_dist and iter_num < max_iter:\n",
    "        for b in n_batch_list:\n",
    "            iter_num += 1\n",
    "            start_ = qty_in_batch*b\n",
    "            end_ = qty_in_batch*(b+1)\n",
    "            \n",
    "            X_tmp = X[start_ : end_,:]\n",
    "            y_tmp = y[start_ : end_]\n",
    "            y_pred_temp = X_tmp.dot(W)\n",
    "            \n",
    "            err0 = mse(y_tmp, y_pred_temp)\n",
    "            err_list.append(err0)\n",
    "        \n",
    "            W -= alpha * (1/n * X_tmp.T.dot(y_pred_temp - y_tmp) + eta * W)\n",
    "            \n",
    "            y_pred_temp = X_tmp.dot(W)\n",
    "            err1 = mse(y_tmp, y_pred_temp)\n",
    "            distance = err0 - err1\n",
    "            \n",
    "    return err_list\n",
    "    #print(f'Минимальная ошибка: {err_list[-1]}')\n",
    "    #print(f'Количество итераций: {iter_num}')   "
   ]
  },
  {
   "cell_type": "code",
   "execution_count": 594,
   "metadata": {
    "scrolled": false
   },
   "outputs": [],
   "source": [
    "err1_l2 = gradient_l2(X_scalered, y, alpha=1e-2, max_iter=1e3, min_weight_dist=1e-3, eta = 1e-4)\n",
    "err2_l2 = SGDlinear_l2(X_scalered, y, alpha=1e-2, qty_in_batch = 50, max_iter=1e8, min_weight_dist=1e-3, eta = 1e-4)"
   ]
  },
  {
   "cell_type": "code",
   "execution_count": 659,
   "metadata": {
    "scrolled": true
   },
   "outputs": [
    {
     "data": {
      "image/png": "[encoded data removed]",
      "text/plain": [
       "<Figure size 432x288 with 1 Axes>"
      ]
     },
     "metadata": {
      "needs_background": "light"
     },
     "output_type": "display_data"
    }
   ],
   "source": [
    "plot(err1_l2,err2_l2)"
   ]
  },
  {
   "cell_type": "markdown",
   "metadata": {},
   "source": [
    "3. Модернизировать решение задания 2, заменив L2 регуляризацию на L1 регуляризацию."
   ]
  },
  {
   "cell_type": "code",
   "execution_count": 640,
   "metadata": {},
   "outputs": [],
   "source": [
    "def gradient_l1(X, y, alpha, max_iter, min_weight_dist, eta):\n",
    "    W = np.random.randn(X.shape[1])\n",
    "    n = X.shape[0]    \n",
    "    distance = 1\n",
    "    iter_num = 0    \n",
    "    y_pred = X.dot(W)\n",
    "    err0 = mse(y, y_pred)\n",
    "    err_list = [err0]\n",
    "    \n",
    "    while distance > min_weight_dist and iter_num < max_iter:\n",
    "        iter_num += 1\n",
    "        W -= alpha * (1/n * X.T.dot(y_pred - y) + eta * np.sign(W))\n",
    "        y_pred = X.dot(W)\n",
    "        err1 = mse(y, y_pred)\n",
    "        distance = err0 - err1\n",
    "        err0 = err1\n",
    "        err_list.append(err0)\n",
    "        \n",
    "    return err_list\n",
    "    #print(f'Минимальная ошибка: {err_list[-1]}')\n",
    "    #print(f'Количество итераций: {iter_num}') "
   ]
  },
  {
   "cell_type": "code",
   "execution_count": 639,
   "metadata": {},
   "outputs": [],
   "source": [
    "def SGDlinear_l1(X, y, alpha, qty_in_batch, max_iter, min_weight_dist, eta):\n",
    "    W = np.random.randn(X.shape[1])\n",
    "    n = X.shape[0]    \n",
    "    distance = 1\n",
    "    iter_num = 0    \n",
    "    err_list = []\n",
    "    \n",
    "    n_batch = n // qty_in_batch\n",
    "    if n % qty_in_batch != 0:\n",
    "        n_batch += 1\n",
    "    \n",
    "    n_batch_list = [i for i in range(n_batch)]\n",
    "    \n",
    "    while distance > min_weight_dist and iter_num < max_iter:\n",
    "        for b in n_batch_list:\n",
    "            iter_num += 1\n",
    "            start_ = qty_in_batch*b\n",
    "            end_ = qty_in_batch*(b+1)\n",
    "            \n",
    "            X_tmp = X[start_ : end_,:]\n",
    "            y_tmp = y[start_ : end_]\n",
    "            y_pred_temp = X_tmp.dot(W)\n",
    "            \n",
    "            err0 = mse(y_tmp, y_pred_temp)\n",
    "            err_list.append(err0)\n",
    "        \n",
    "            W -= alpha * (1/n * X_tmp.T.dot(y_pred_temp - y_tmp) + eta * np.sign(W))\n",
    "            \n",
    "            y_pred_temp = X_tmp.dot(W)\n",
    "            err1 = mse(y_tmp, y_pred_temp)\n",
    "            distance = err0 - err1\n",
    "            \n",
    "    return err_list\n",
    "    #print(f'Минимальная ошибка: {err_list[-1]}')\n",
    "    #print(f'Количество итераций: {iter_num}')   "
   ]
  },
  {
   "cell_type": "code",
   "execution_count": 642,
   "metadata": {
    "scrolled": false
   },
   "outputs": [],
   "source": [
    "err1_l1 = gradient_l1(X_scalered, y, alpha=1e-2, max_iter=1e3, min_weight_dist=1e-3, eta = 1e-4)\n",
    "err2_l1 = SGDlinear_l1(X_scalered, y, alpha=1e-2, qty_in_batch = 50, max_iter=1e8, min_weight_dist=1e-3, eta = 1e-4)"
   ]
  },
  {
   "cell_type": "code",
   "execution_count": 660,
   "metadata": {
    "scrolled": false
   },
   "outputs": [
    {
     "data": {
      "image/png": "[encoded data removed]",
      "text/plain": [
       "<Figure size 432x288 with 1 Axes>"
      ]
     },
     "metadata": {
      "needs_background": "light"
     },
     "output_type": "display_data"
    }
   ],
   "source": [
    "plot(err1_l1,err2_l1)"
   ]
  },
  {
   "cell_type": "markdown",
   "metadata": {},
   "source": [
    "Сравнение результатов:"
   ]
  },
  {
   "cell_type": "code",
   "execution_count": 649,
   "metadata": {},
   "outputs": [],
   "source": [
    "def results(err1,err2, reg = ''):\n",
    "    print(f'Gradient {reg} min error: {err1[-1].round(2)}')\n",
    "    print(f'Gradient {reg} iterrations: {len(err1)}')\n",
    "    print(f'SGD {reg} min error: {err2[-1].round(2)}')\n",
    "    print(f'SGD {reg} iterrations: {len(err2)}')"
   ]
  },
  {
   "cell_type": "code",
   "execution_count": 655,
   "metadata": {
    "scrolled": true
   },
   "outputs": [
    {
     "name": "stdout",
     "output_type": "stream",
     "text": [
      "Gradient  min error: 98.77\n",
      "Gradient  iterrations: 609\n",
      "SGD  min error: 89.94\n",
      "SGD  iterrations: 74000\n"
     ]
    }
   ],
   "source": [
    "results(err1,err2)"
   ]
  },
  {
   "cell_type": "code",
   "execution_count": 654,
   "metadata": {
    "scrolled": true
   },
   "outputs": [
    {
     "name": "stdout",
     "output_type": "stream",
     "text": [
      "Gradient L2 min error: 98.77\n",
      "Gradient L2 iterrations: 610\n",
      "SGD L2 min error: 96.8\n",
      "SGD L2 iterrations: 81800\n"
     ]
    }
   ],
   "source": [
    "results(err1_l2, err2_l2,reg ='L2')"
   ]
  },
  {
   "cell_type": "code",
   "execution_count": 656,
   "metadata": {},
   "outputs": [
    {
     "name": "stdout",
     "output_type": "stream",
     "text": [
      "Gradient L1 min error: 98.77\n",
      "Gradient L1 iterrations: 608\n",
      "SGD L1 min error: 89.96\n",
      "SGD L1 iterrations: 74600\n"
     ]
    }
   ],
   "source": [
    "results(err1_l1,err2_l1,reg ='L1') "
   ]
  }
 ],
 "metadata": {
  "kernelspec": {
   "display_name": "Python 3",
   "language": "python",
   "name": "python3"
  },
  "language_info": {
   "codemirror_mode": {
    "name": "ipython",
    "version": 3
   },
   "file_extension": ".py",
   "mimetype": "text/x-python",
   "name": "python",
   "nbconvert_exporter": "python",
   "pygments_lexer": "ipython3",
   "version": "3.7.6"
  }
 },
 "nbformat": 4,
 "nbformat_minor": 4
}
