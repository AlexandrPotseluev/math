{
 "cells": [
  {
   "cell_type": "code",
   "execution_count": 1,
   "metadata": {},
   "outputs": [],
   "source": [
    "import matplotlib.pyplot as plt\n",
    "import numpy as np\n",
    "import pandas as pd\n",
    "\n",
    "from sklearn import datasets\n",
    "from sklearn.model_selection import train_test_split\n",
    "\n",
    "%matplotlib inline"
   ]
  },
  {
   "cell_type": "markdown",
   "metadata": {},
   "source": [
    "1. Измените функцию calc_logloss так, чтобы нули по возможности не попадали в np.log."
   ]
  },
  {
   "cell_type": "code",
   "execution_count": 2,
   "metadata": {},
   "outputs": [],
   "source": [
    "def limit(a):\n",
    "    b = np.array(a, dtype=float)\n",
    "    min_ = 1e-8\n",
    "    b[b==0] = min_\n",
    "    b[b==1] = 1 - min_\n",
    "    \n",
    "    return b"
   ]
  },
  {
   "cell_type": "code",
   "execution_count": 3,
   "metadata": {},
   "outputs": [],
   "source": [
    "def calc_logloss(y, y_pred):\n",
    "    y_pred = limit(y_pred) \n",
    "    err = - np.mean(y * np.log(y_pred) + (1.0 - y) * np.log(1.0 - y_pred))\n",
    "    return err"
   ]
  },
  {
   "cell_type": "code",
   "execution_count": 4,
   "metadata": {},
   "outputs": [
    {
     "data": {
      "text/plain": [
       "18.420680741439988"
      ]
     },
     "execution_count": 4,
     "metadata": {},
     "output_type": "execute_result"
    }
   ],
   "source": [
    "y1 = np.array([1, 0])\n",
    "y_pred1 = np.array([0, 1])\n",
    "calc_logloss(y1, y_pred1)"
   ]
  },
  {
   "cell_type": "markdown",
   "metadata": {},
   "source": [
    "2. Подберите аргументы функции eval_model для логистической регрессии таким образом, чтобы log loss был минимальным."
   ]
  },
  {
   "cell_type": "code",
   "execution_count": 5,
   "metadata": {},
   "outputs": [],
   "source": [
    "def calc_std_feat(x):\n",
    "    res = (x - x.mean(axis=0)) / x.std(axis=0)\n",
    "    return res"
   ]
  },
  {
   "cell_type": "code",
   "execution_count": 65,
   "metadata": {},
   "outputs": [],
   "source": [
    "classes = datasets.make_classification(n_samples=1000, n_features=2, n_informative=2,\n",
    "                                       n_redundant=0, n_classes=2, random_state=1)"
   ]
  },
  {
   "cell_type": "code",
   "execution_count": 66,
   "metadata": {},
   "outputs": [],
   "source": [
    "np.random.seed(12)\n",
    "shuffle_index = np.random.permutation(classes[0].shape[0])\n",
    "X_shuf, y_shuf = classes[0][shuffle_index], classes[1][shuffle_index]"
   ]
  },
  {
   "cell_type": "code",
   "execution_count": 67,
   "metadata": {},
   "outputs": [],
   "source": [
    "X_scalered = calc_std_feat(X_shuf)"
   ]
  },
  {
   "cell_type": "code",
   "execution_count": 68,
   "metadata": {},
   "outputs": [
    {
     "data": {
      "text/plain": [
       "((700, 2), (300, 2), (700,), (300,))"
      ]
     },
     "execution_count": 68,
     "metadata": {},
     "output_type": "execute_result"
    }
   ],
   "source": [
    "X_train, X_test, y_train, y_test = train_test_split(X_scalered, y_shuf, test_size=0.3, random_state=42)\n",
    "X_train.shape, X_test.shape, y_train.shape, y_test.shape"
   ]
  },
  {
   "cell_type": "code",
   "execution_count": 69,
   "metadata": {},
   "outputs": [],
   "source": [
    "def sigmoid(z):\n",
    "    res = 1 / (1 + np.exp(-z))\n",
    "    return res"
   ]
  },
  {
   "cell_type": "code",
   "execution_count": 70,
   "metadata": {},
   "outputs": [],
   "source": [
    "def log_model(X, y, alpha, max_iter, min_weight_dist):\n",
    "    np.random.seed(42)\n",
    "    W = np.random.randn(X.shape[1])\n",
    "    n = X.shape[0]\n",
    "    distance = 1\n",
    "    iter_num = 1    \n",
    "    y_pred = sigmoid(X.dot(W))\n",
    "    err = calc_logloss(y, y_pred)\n",
    "    losses = [err]\n",
    "    \n",
    "    while distance > min_weight_dist and iter_num < max_iter:\n",
    "        W -= alpha * 1/n * X.T.dot(y_pred - y)\n",
    "        y_pred = sigmoid(X.dot(W))\n",
    "        err1 = calc_logloss(y, y_pred)\n",
    "        err1 = np.squeeze(err1)\n",
    "        distance = np.abs(err - err1)\n",
    "        err = err1\n",
    "        losses.append(err)\n",
    "        iter_num+=1\n",
    "        \n",
    "    return W, losses"
   ]
  },
  {
   "cell_type": "code",
   "execution_count": 71,
   "metadata": {},
   "outputs": [
    {
     "data": {
      "text/plain": [
       "array([2.80823104, 0.23608449])"
      ]
     },
     "execution_count": 71,
     "metadata": {},
     "output_type": "execute_result"
    }
   ],
   "source": [
    "W, losses = log_model(X_train, y_train,\n",
    "              alpha = 1e-2,\n",
    "              max_iter = 1e4,\n",
    "              min_weight_dist = 1e-7)\n",
    "W"
   ]
  },
  {
   "cell_type": "code",
   "execution_count": 72,
   "metadata": {},
   "outputs": [
    {
     "data": {
      "text/plain": [
       "[<matplotlib.lines.Line2D at 0x7f9f17aef690>]"
      ]
     },
     "execution_count": 72,
     "metadata": {},
     "output_type": "execute_result"
    },
    {
     "data": {
      "image/png": "[encoded data removed]",
      "text/plain": [
       "<Figure size 432x288 with 1 Axes>"
      ]
     },
     "metadata": {
      "needs_background": "light"
     },
     "output_type": "display_data"
    }
   ],
   "source": [
    "plt.title('Log loss')\n",
    "plt.xlabel('iterations')\n",
    "plt.ylabel('loss')\n",
    "plt.plot(range(len(losses)), losses)"
   ]
  },
  {
   "cell_type": "markdown",
   "metadata": {},
   "source": [
    "3. Создайте функцию calc_pred_proba, возвращающую предсказанную вероятность класса 1 (на вход подаются W, который уже посчитан функцией eval_model и X, на выходе - массив y_pred_proba)."
   ]
  },
  {
   "cell_type": "code",
   "execution_count": 73,
   "metadata": {},
   "outputs": [],
   "source": [
    "def calc_pred_proba_1(X, W):\n",
    "    y_proba = sigmoid(X.dot(W))\n",
    "    return y_proba[y_proba > 0.5]"
   ]
  },
  {
   "cell_type": "code",
   "execution_count": 74,
   "metadata": {
    "scrolled": true
   },
   "outputs": [
    {
     "data": {
      "text/plain": [
       "array([0.72428365, 0.83980559, 0.6783925 , 0.68498377, 0.84320632,\n",
       "       0.67642771, 0.87810024, 0.95033043, 0.8525313 , 0.9335683 ,\n",
       "       0.63701402, 0.9406585 , 0.62106138, 0.81436059, 0.60743387,\n",
       "       0.58961536, 0.72115845, 0.92358334, 0.68461239, 0.99337284,\n",
       "       0.73931487, 0.73779557, 0.99076023, 0.94973439, 0.60343644,\n",
       "       0.99006454, 0.99867348, 0.72788559, 0.57594653, 0.72139156,\n",
       "       0.84795221, 0.79962617, 0.97197948, 0.82182483, 0.8379744 ,\n",
       "       0.91158029, 0.87480843, 0.967765  , 0.76621459, 0.85979463,\n",
       "       0.66950688, 0.52162015, 0.97217393, 0.78541854, 0.99729543,\n",
       "       0.99080906, 0.95046234, 0.70102722, 0.6199281 , 0.54196171,\n",
       "       0.99883406, 0.98053729, 0.71238688, 0.98538003, 0.51259147,\n",
       "       0.83096798, 0.84994227, 0.82468726, 0.95050888, 0.93534099,\n",
       "       0.82360012, 0.89931067, 0.52880221, 0.87199698, 0.74046541,\n",
       "       0.78981884, 0.99936608, 0.79872362, 0.80498741, 0.98206158,\n",
       "       0.65311396, 0.95810656, 0.83200225, 0.84532572, 0.60804437,\n",
       "       0.79392356, 0.67131128, 0.94073673, 0.92988378, 0.62990144,\n",
       "       0.98068942, 0.66050093, 0.79049702, 0.90726561, 0.65251833,\n",
       "       0.76982701, 0.95244753, 0.99015883, 0.71517251, 0.8528384 ,\n",
       "       0.89329054, 0.99329235, 0.98872956, 0.94799479, 0.99094191,\n",
       "       0.78140578, 0.97348318, 0.96470013, 0.70082237, 0.91075934,\n",
       "       0.75902501, 0.86404757, 0.88665112, 0.93412054, 0.71087519,\n",
       "       0.93138215, 0.510481  , 0.91554942, 0.93637064, 0.967265  ,\n",
       "       0.59452093, 0.93230055, 0.97743756, 0.78114514, 0.59473442,\n",
       "       0.88011223, 0.84925381, 0.84434181, 0.65279836, 0.99591155,\n",
       "       0.89964763, 0.96537065, 0.9879923 , 0.99348608, 0.54258296,\n",
       "       0.51721536, 0.78081444, 0.92909374, 0.94457828, 0.695952  ,\n",
       "       0.97851208, 0.98154001, 0.64709166, 0.97739402, 0.87313119,\n",
       "       0.65971768, 0.95191759, 0.79885478, 0.90248216, 0.58715515,\n",
       "       0.99635301, 0.83171287, 0.79270529, 0.6521676 , 0.99945989,\n",
       "       0.95446565, 0.99293286, 0.7416588 , 0.51462748, 0.84492382,\n",
       "       0.94710488, 0.81462256, 0.84023529, 0.52140541, 0.71035495,\n",
       "       0.8797761 , 0.699741  , 0.95289232, 0.71995547, 0.87168615,\n",
       "       0.75678204, 0.86938235, 0.87700077, 0.55069336, 0.78674619,\n",
       "       0.95763308, 0.70290795, 0.97493451, 0.9802941 , 0.5137012 ,\n",
       "       0.68510676, 0.93854012, 0.93644128, 0.82914061, 0.57686402,\n",
       "       0.98991316, 0.90253294, 0.66622966, 0.89737572, 0.77832206,\n",
       "       0.56770219, 0.94174214, 0.87940218, 0.88559964, 0.94638165,\n",
       "       0.95319232, 0.99801757, 0.91280344, 0.50205663, 0.71284044,\n",
       "       0.64460374, 0.92145719, 0.67422665, 0.62969173, 0.61698234,\n",
       "       0.99647185, 0.59034284, 0.98203945, 0.98802358, 0.74749109,\n",
       "       0.95461103, 0.76951922, 0.80411032, 0.97950117, 0.94706985,\n",
       "       0.73130151, 0.79520462, 0.93033395, 0.62691204, 0.55568862,\n",
       "       0.66654101, 0.99080005, 0.99738384, 0.82879782, 0.89821008,\n",
       "       0.92557638, 0.76493954, 0.71550695, 0.84074955, 0.57413688,\n",
       "       0.67130878, 0.79154734, 0.99639145, 0.88226604, 0.91969821,\n",
       "       0.65920188, 0.99288891, 0.7173373 , 0.99553221, 0.99042776,\n",
       "       0.97084327, 0.56292509, 0.98083878, 0.63159114, 0.72049913,\n",
       "       0.5001861 , 0.87118574, 0.66406777, 0.81271779, 0.64239403,\n",
       "       0.99260608, 0.54704729, 0.82581712, 0.98243231, 0.98746249,\n",
       "       0.99415613, 0.89626929, 0.818187  , 0.91876829, 0.95358471,\n",
       "       0.96806923, 0.91986865, 0.9981216 , 0.97416586, 0.94506873,\n",
       "       0.93875126, 0.82585101, 0.80981757, 0.76525965, 0.95578246,\n",
       "       0.67507074, 0.75622816, 0.99467172, 0.94883574, 0.92338244,\n",
       "       0.63178268, 0.57804652, 0.9314489 , 0.9480938 , 0.75025094,\n",
       "       0.67887647, 0.92729568, 0.86893384, 0.96966571, 0.97581321,\n",
       "       0.97596707, 0.78212343, 0.7903025 , 0.72168627, 0.95996751,\n",
       "       0.97866105, 0.82670679, 0.71041891, 0.8486658 , 0.93736052,\n",
       "       0.81129089, 0.55692639, 0.50257317, 0.83499658, 0.77374673,\n",
       "       0.92300843, 0.88527662, 0.95706179, 0.93164516, 0.98106544,\n",
       "       0.94558383, 0.9138379 , 0.81059561, 0.71540316, 0.82869113,\n",
       "       0.66755096, 0.99649706, 0.6593108 , 0.90292016, 0.63514396,\n",
       "       0.99359115, 0.91701757, 0.85382034, 0.7957213 , 0.86363917,\n",
       "       0.73737175, 0.81765751, 0.91040926, 0.61739854, 0.89303182,\n",
       "       0.71699674, 0.96166905, 0.9825419 , 0.7538483 , 0.84312607,\n",
       "       0.98175699, 0.99470653, 0.71590318, 0.79691074, 0.99156192,\n",
       "       0.9892835 , 0.82470293, 0.71496088, 0.78987231, 0.60433661,\n",
       "       0.93304689, 0.96857876, 0.99290756, 0.97393236, 0.53068631,\n",
       "       0.99838104, 0.98501054, 0.87816567, 0.82275328, 0.85086982,\n",
       "       0.7888037 , 0.98911299, 0.88977965])"
      ]
     },
     "execution_count": 74,
     "metadata": {},
     "output_type": "execute_result"
    }
   ],
   "source": [
    "calc_pred_proba_1(X_train, W)"
   ]
  },
  {
   "cell_type": "markdown",
   "metadata": {},
   "source": [
    "4. Создайте функцию calc_pred, возвращающую предсказанный класс (на вход подаются W, который уже посчитан функцией eval_model и X, на выходе - массив y_pred)"
   ]
  },
  {
   "cell_type": "code",
   "execution_count": 75,
   "metadata": {},
   "outputs": [],
   "source": [
    "def calc_pred(X, W):\n",
    "    y = sigmoid(X.dot(W))\n",
    "    class_predict = np.where(y > 0.5, 1, 0)\n",
    "    return class_predict"
   ]
  },
  {
   "cell_type": "code",
   "execution_count": 76,
   "metadata": {
    "scrolled": true
   },
   "outputs": [
    {
     "data": {
      "text/plain": [
       "array([0, 0, 0, 1, 0, 0, 1, 1, 0, 0, 0, 1, 1, 1, 1, 0, 0, 1, 1, 0, 1, 0,\n",
       "       1, 0, 1, 1, 0, 1, 1, 0, 0, 1, 0, 1, 1, 0, 1, 0, 0, 0, 0, 1, 0, 1,\n",
       "       0, 1, 0, 0, 1, 1, 0, 1, 1, 1, 1, 0, 0, 1, 1, 1, 1, 1, 0, 0, 1, 1,\n",
       "       0, 1, 1, 1, 0, 0, 1, 1, 1, 0, 1, 1, 1, 0, 0, 1, 1, 0, 1, 0, 0, 1,\n",
       "       1, 1, 1, 1, 1, 1, 0, 0, 0, 1, 0, 0, 1, 0, 0, 1, 1, 0, 0, 0, 1, 1,\n",
       "       0, 0, 1, 0, 0, 0, 0, 0, 0, 0, 0, 0, 0, 1, 1, 0, 0, 1, 1, 0, 0, 1,\n",
       "       0, 1, 0, 1, 0, 1, 1, 0, 0, 1, 1, 0, 0, 0, 0, 1, 0, 0, 1, 0, 1, 0,\n",
       "       0, 1, 1, 1, 1, 1, 1, 1, 1, 0, 0, 1, 0, 0, 0, 0, 0, 0, 1, 0, 1, 1,\n",
       "       1, 1, 0, 0, 1, 0, 1, 0, 1, 1, 0, 1, 0, 0, 1, 1, 0, 0, 1, 1, 1, 0,\n",
       "       1, 0, 1, 0, 0, 0, 1, 0, 1, 0, 1, 0, 1, 0, 1, 1, 0, 1, 1, 1, 1, 1,\n",
       "       1, 0, 1, 0, 0, 0, 0, 0, 0, 0, 0, 0, 0, 0, 0, 1, 0, 1, 1, 1, 0, 1,\n",
       "       1, 0, 0, 0, 1, 0, 1, 1, 0, 1, 0, 0, 0, 0, 1, 1, 0, 0, 0, 0, 0, 0,\n",
       "       1, 1, 1, 1, 0, 1, 0, 1, 0, 0, 0, 0, 0, 0, 1, 1, 1, 1, 0, 1, 1, 1,\n",
       "       1, 1, 0, 0, 0, 1, 0, 0, 0, 0, 1, 1, 0, 0, 1, 1, 0, 1, 0, 0, 1, 1,\n",
       "       0, 0, 1, 0, 0, 0, 0, 1, 0, 1, 0, 0, 0, 1, 1, 0, 1, 1, 0, 0, 0, 1,\n",
       "       1, 1, 0, 1, 0, 0, 1, 0, 1, 0, 1, 0, 1, 1, 1, 1, 0, 1, 1, 0, 0, 0,\n",
       "       0, 0, 0, 1, 1, 1, 0, 1, 1, 1, 1, 1, 0, 0, 0, 1, 0, 1, 0, 1, 1, 1,\n",
       "       0, 1, 1, 0, 0, 1, 1, 1, 1, 1, 1, 1, 1, 1, 0, 0, 1, 0, 1, 0, 0, 1,\n",
       "       0, 0, 0, 0, 1, 0, 0, 1, 0, 0, 1, 1, 0, 1, 1, 0, 1, 1, 1, 1, 1, 0,\n",
       "       0, 0, 1, 1, 0, 1, 0, 0, 0, 1, 0, 0, 1, 0, 0, 1, 1, 1, 0, 1, 1, 0,\n",
       "       1, 0, 1, 1, 0, 0, 1, 0, 0, 0, 0, 1, 0, 1, 1, 0, 0, 1, 0, 0, 0, 1,\n",
       "       0, 0, 1, 1, 1, 0, 0, 1, 1, 0, 1, 1, 1, 0, 0, 0, 0, 0, 1, 0, 0, 1,\n",
       "       1, 0, 0, 0, 1, 1, 1, 1, 1, 1, 1, 1, 0, 1, 0, 0, 1, 0, 1, 0, 0, 0,\n",
       "       1, 0, 1, 1, 1, 0, 1, 1, 1, 0, 0, 1, 1, 1, 1, 1, 1, 1, 0, 0, 1, 0,\n",
       "       1, 1, 1, 1, 1, 0, 0, 1, 0, 0, 0, 1, 0, 1, 1, 0, 0, 1, 1, 0, 0, 1,\n",
       "       1, 0, 0, 1, 1, 0, 0, 0, 0, 0, 1, 1, 1, 1, 1, 0, 0, 0, 1, 1, 0, 0,\n",
       "       0, 1, 1, 1, 0, 0, 0, 0, 1, 1, 1, 1, 0, 0, 0, 1, 1, 0, 0, 0, 1, 1,\n",
       "       0, 0, 1, 0, 0, 0, 0, 0, 0, 0, 0, 0, 1, 1, 0, 0, 0, 1, 1, 0, 0, 1,\n",
       "       1, 0, 0, 0, 1, 0, 0, 0, 1, 0, 0, 1, 1, 1, 0, 0, 1, 1, 0, 1, 1, 0,\n",
       "       0, 0, 0, 0, 1, 1, 0, 0, 1, 1, 0, 0, 1, 1, 1, 0, 0, 1, 0, 1, 1, 0,\n",
       "       1, 0, 1, 0, 1, 1, 0, 0, 0, 0, 1, 1, 0, 0, 0, 1, 1, 1, 1, 1, 1, 0,\n",
       "       1, 1, 0, 1, 0, 1, 1, 1, 1, 1, 0, 0, 0, 0, 0, 0, 0, 1])"
      ]
     },
     "execution_count": 76,
     "metadata": {},
     "output_type": "execute_result"
    }
   ],
   "source": [
    "y_pred_train = calc_pred(X_train, W)\n",
    "y_pred_test = calc_pred(X_test, W)\n",
    "y_pred_train"
   ]
  },
  {
   "cell_type": "markdown",
   "metadata": {},
   "source": [
    "5. Посчитайте Accuracy, матрицу ошибок, точность и полноту, а также F1 score."
   ]
  },
  {
   "cell_type": "code",
   "execution_count": 77,
   "metadata": {},
   "outputs": [],
   "source": [
    "def y_frame(y,y_pred):\n",
    "    df = pd.DataFrame(np.vstack((y,y_pred)).T,\n",
    "                        columns = ['y', 'y_pred'])\n",
    "    return df"
   ]
  },
  {
   "cell_type": "code",
   "execution_count": 78,
   "metadata": {},
   "outputs": [],
   "source": [
    "df_train = y_frame(y_train,y_pred_train)\n",
    "df_test = y_frame(y_test,y_pred_test)"
   ]
  },
  {
   "cell_type": "code",
   "execution_count": 79,
   "metadata": {},
   "outputs": [],
   "source": [
    "def results(df):\n",
    "    TP = len(df.loc[(df['y'] == df['y_pred'])&(df['y_pred']==1)])\n",
    "    TN = len(df.loc[(df['y'] == df['y_pred'])&(df['y_pred']==0)])\n",
    "    FP = len(df.loc[(df['y'] != df['y_pred'])&(df['y_pred']==1)])\n",
    "    FN = len(df.loc[(df['y'] != df['y_pred'])&(df['y_pred']==0)])\n",
    "    \n",
    "    print(f'TP: {TP}, TN: {TN}, FP: {FP}, FN: {FN}')\n",
    "    print(f'accuracy: {(TP + TN)/(TP + TN + FP + FN)}')\n",
    "    print(f'precision: {TP / (TP + FP)}')\n",
    "    print(f'recall: {TP / (TP + FN)}')\n",
    "    print(f'F: {2 * precision * recall / (precision + recall)}')"
   ]
  },
  {
   "cell_type": "code",
   "execution_count": 80,
   "metadata": {},
   "outputs": [
    {
     "name": "stdout",
     "output_type": "stream",
     "text": [
      "TP: 291, TN: 307, FP: 52, FN: 50\n",
      "accuracy: 0.8542857142857143\n",
      "precision: 0.8483965014577259\n",
      "recall: 0.8533724340175953\n",
      "F: 0.9705882352941176\n"
     ]
    }
   ],
   "source": [
    "results(df_train)"
   ]
  },
  {
   "cell_type": "code",
   "execution_count": 81,
   "metadata": {
    "scrolled": true
   },
   "outputs": [
    {
     "name": "stdout",
     "output_type": "stream",
     "text": [
      "TP: 146, TN: 103, FP: 37, FN: 14\n",
      "accuracy: 0.83\n",
      "precision: 0.7978142076502732\n",
      "recall: 0.9125\n",
      "F: 0.9705882352941176\n"
     ]
    }
   ],
   "source": [
    "results(df_test)"
   ]
  },
  {
   "cell_type": "markdown",
   "metadata": {},
   "source": [
    "6. Могла ли модель переобучиться? Почему?\n",
    "\n",
    "Нет, потому что функция потерь линейная."
   ]
  },
  {
   "cell_type": "markdown",
   "metadata": {},
   "source": [
    "7. (опция) Создайте функции eval_model_l1 и eval_model_l2 с применением L1 и L2 регуляризаций соответственно."
   ]
  },
  {
   "cell_type": "code",
   "execution_count": 84,
   "metadata": {},
   "outputs": [],
   "source": [
    "def log_model_l1(X, y, alpha, max_iter, min_weight_dist, eta):\n",
    "    np.random.seed(42)\n",
    "    W = np.random.randn(X.shape[1])\n",
    "    n = X.shape[0]\n",
    "    distance = 1\n",
    "    iter_num = 1    \n",
    "    y_pred = sigmoid(X.dot(W))\n",
    "    err = calc_logloss(y, y_pred)\n",
    "    losses = [err]\n",
    "    \n",
    "    while distance > min_weight_dist and iter_num < max_iter:\n",
    "        W -= alpha * (1/n * X.T.dot(y_pred - y) + eta * np.sign(W))\n",
    "        y_pred = sigmoid(X.dot(W))\n",
    "        err1 = calc_logloss(y, y_pred)\n",
    "        err1 = np.squeeze(err1)\n",
    "        distance = np.abs(err - err1)\n",
    "        err = err1\n",
    "        losses.append(err)\n",
    "        iter_num+=1\n",
    "        \n",
    "    return W, losses"
   ]
  },
  {
   "cell_type": "code",
   "execution_count": 85,
   "metadata": {
    "scrolled": true
   },
   "outputs": [
    {
     "data": {
      "text/plain": [
       "[<matplotlib.lines.Line2D at 0x7f9f183fc750>]"
      ]
     },
     "execution_count": 85,
     "metadata": {},
     "output_type": "execute_result"
    },
    {
     "data": {
      "image/png": "[encoded data removed]",
      "text/plain": [
       "<Figure size 432x288 with 1 Axes>"
      ]
     },
     "metadata": {
      "needs_background": "light"
     },
     "output_type": "display_data"
    }
   ],
   "source": [
    "W, losses = log_model_l1(X_train, y_train,\n",
    "                         alpha = 1e-2,\n",
    "                         max_iter = 1e4,\n",
    "                         min_weight_dist = 1e-7,\n",
    "                         eta = 1e-4)\n",
    "\n",
    "plt.title('Log loss')\n",
    "plt.xlabel('iterations')\n",
    "plt.ylabel('loss')\n",
    "plt.plot(range(len(losses)), losses)"
   ]
  },
  {
   "cell_type": "code",
   "execution_count": 86,
   "metadata": {},
   "outputs": [],
   "source": [
    "def log_model_l2(X, y, alpha, max_iter, min_weight_dist, eta):\n",
    "    np.random.seed(42)\n",
    "    W = np.random.randn(X.shape[1])\n",
    "    n = X.shape[0]\n",
    "    distance = 1\n",
    "    iter_num = 1    \n",
    "    y_pred = sigmoid(X.dot(W))\n",
    "    err = calc_logloss(y, y_pred)\n",
    "    losses = [err]\n",
    "    \n",
    "    while distance > min_weight_dist and iter_num < max_iter:\n",
    "        W -= alpha * (1/n * X.T.dot(y_pred - y) + eta * W)\n",
    "        y_pred = sigmoid(X.dot(W))\n",
    "        err1 = calc_logloss(y, y_pred)\n",
    "        err1 = np.squeeze(err1)\n",
    "        distance = np.abs(err - err1)\n",
    "        err = err1\n",
    "        losses.append(err)\n",
    "        iter_num+=1\n",
    "        \n",
    "    return W, losses"
   ]
  },
  {
   "cell_type": "code",
   "execution_count": 87,
   "metadata": {},
   "outputs": [
    {
     "data": {
      "text/plain": [
       "[<matplotlib.lines.Line2D at 0x7f9f17bd8bd0>]"
      ]
     },
     "execution_count": 87,
     "metadata": {},
     "output_type": "execute_result"
    },
    {
     "data": {
      "image/png": "[encoded data removed]",
      "text/plain": [
       "<Figure size 432x288 with 1 Axes>"
      ]
     },
     "metadata": {
      "needs_background": "light"
     },
     "output_type": "display_data"
    }
   ],
   "source": [
    "W, losses = log_model_l2(X_train, y_train,\n",
    "                         alpha = 1e-2,\n",
    "                         max_iter = 1e4,\n",
    "                         min_weight_dist = 1e-7,\n",
    "                         eta = 1e-4)\n",
    "\n",
    "plt.title('Log loss')\n",
    "plt.xlabel('iterations')\n",
    "plt.ylabel('loss')\n",
    "plt.plot(range(len(losses)), losses)"
   ]
  },
  {
   "cell_type": "code",
   "execution_count": null,
   "metadata": {},
   "outputs": [],
   "source": []
  }
 ],
 "metadata": {
  "kernelspec": {
   "display_name": "Python 3",
   "language": "python",
   "name": "python3"
  },
  "language_info": {
   "codemirror_mode": {
    "name": "ipython",
    "version": 3
   },
   "file_extension": ".py",
   "mimetype": "text/x-python",
   "name": "python",
   "nbconvert_exporter": "python",
   "pygments_lexer": "ipython3",
   "version": "3.7.6"
  }
 },
 "nbformat": 4,
 "nbformat_minor": 4
}
